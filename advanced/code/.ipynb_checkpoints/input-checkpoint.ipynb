{
 "cells": [
  {
   "cell_type": "markdown",
   "metadata": {
    "id": "i760xmPvbBoI"
   },
   "source": [
    "# Title"
   ]
  },
  {
   "cell_type": "code",
   "execution_count": 1,
   "metadata": {
    "colab": {
     "base_uri": "https://localhost:8080/"
    },
    "executionInfo": {
     "elapsed": 3443,
     "status": "ok",
     "timestamp": 1607700683781,
     "user": {
      "displayName": "Thomas Nelen",
      "photoUrl": "",
      "userId": "09198946240301374422"
     },
     "user_tz": -60
    },
    "id": "dK0W3KV2bNBC",
    "outputId": "8ea9ecbb-4594-482d-dc2c-0786855634a8"
   },
   "outputs": [
    {
     "name": "stdout",
     "output_type": "stream",
     "text": [
      "Collecting papermill\n",
      "  Downloading papermill-2.2.2-py3-none-any.whl (35 kB)\n",
      "Collecting ansiwrap\n",
      "  Using cached ansiwrap-0.8.4-py2.py3-none-any.whl (8.5 kB)\n",
      "Requirement already satisfied: click in /Users/jandespiegeleer/opt/anaconda3/lib/python3.8/site-packages (from papermill) (7.1.2)\n",
      "Requirement already satisfied: tqdm>=4.32.2 in /Users/jandespiegeleer/opt/anaconda3/lib/python3.8/site-packages (from papermill) (4.50.2)\n",
      "Requirement already satisfied: entrypoints in /Users/jandespiegeleer/opt/anaconda3/lib/python3.8/site-packages (from papermill) (0.3)\n",
      "Requirement already satisfied: nbformat in /Users/jandespiegeleer/opt/anaconda3/lib/python3.8/site-packages (from papermill) (5.0.8)\n",
      "Collecting black\n",
      "  Downloading black-20.8b1.tar.gz (1.1 MB)\n",
      "\u001b[K     |████████████████████████████████| 1.1 MB 7.9 MB/s eta 0:00:01\n",
      "\u001b[?25h  Installing build dependencies ... \u001b[?25ldone\n",
      "\u001b[?25h  Getting requirements to build wheel ... \u001b[?25ldone\n",
      "\u001b[?25h    Preparing wheel metadata ... \u001b[?25ldone\n",
      "\u001b[?25hRequirement already satisfied: pyyaml in /Users/jandespiegeleer/opt/anaconda3/lib/python3.8/site-packages (from papermill) (5.3.1)\n",
      "Collecting tenacity\n",
      "  Downloading tenacity-6.3.1-py2.py3-none-any.whl (36 kB)\n",
      "Requirement already satisfied: nbclient>=0.2.0 in /Users/jandespiegeleer/opt/anaconda3/lib/python3.8/site-packages (from papermill) (0.5.1)\n",
      "Requirement already satisfied: requests in /Users/jandespiegeleer/opt/anaconda3/lib/python3.8/site-packages (from papermill) (2.24.0)\n",
      "Collecting textwrap3>=0.9.2\n",
      "  Using cached textwrap3-0.9.2-py2.py3-none-any.whl (12 kB)\n",
      "Requirement already satisfied: jsonschema!=2.5.0,>=2.4 in /Users/jandespiegeleer/opt/anaconda3/lib/python3.8/site-packages (from nbformat->papermill) (3.2.0)\n",
      "Requirement already satisfied: ipython-genutils in /Users/jandespiegeleer/opt/anaconda3/lib/python3.8/site-packages (from nbformat->papermill) (0.2.0)\n",
      "Requirement already satisfied: traitlets>=4.1 in /Users/jandespiegeleer/opt/anaconda3/lib/python3.8/site-packages (from nbformat->papermill) (5.0.5)\n",
      "Requirement already satisfied: jupyter-core in /Users/jandespiegeleer/opt/anaconda3/lib/python3.8/site-packages (from nbformat->papermill) (4.6.3)\n",
      "Collecting typed-ast>=1.4.0\n",
      "  Downloading typed_ast-1.4.1-cp38-cp38-macosx_10_15_x86_64.whl (224 kB)\n",
      "\u001b[K     |████████████████████████████████| 224 kB 13.6 MB/s eta 0:00:01\n",
      "\u001b[?25hCollecting mypy-extensions>=0.4.3\n",
      "  Downloading mypy_extensions-0.4.3-py2.py3-none-any.whl (4.5 kB)\n",
      "Requirement already satisfied: regex>=2020.1.8 in /Users/jandespiegeleer/opt/anaconda3/lib/python3.8/site-packages (from black->papermill) (2020.10.15)\n",
      "Collecting appdirs\n",
      "  Using cached appdirs-1.4.4-py2.py3-none-any.whl (9.6 kB)\n",
      "Collecting pathspec<1,>=0.6\n",
      "  Downloading pathspec-0.8.1-py2.py3-none-any.whl (28 kB)\n",
      "Requirement already satisfied: toml>=0.10.1 in /Users/jandespiegeleer/opt/anaconda3/lib/python3.8/site-packages (from black->papermill) (0.10.1)\n",
      "Requirement already satisfied: typing-extensions>=3.7.4 in /Users/jandespiegeleer/opt/anaconda3/lib/python3.8/site-packages (from black->papermill) (3.7.4.3)\n",
      "Requirement already satisfied: six>=1.9.0 in /Users/jandespiegeleer/opt/anaconda3/lib/python3.8/site-packages (from tenacity->papermill) (1.15.0)\n",
      "Requirement already satisfied: async-generator in /Users/jandespiegeleer/opt/anaconda3/lib/python3.8/site-packages (from nbclient>=0.2.0->papermill) (1.10)\n",
      "Requirement already satisfied: nest-asyncio in /Users/jandespiegeleer/opt/anaconda3/lib/python3.8/site-packages (from nbclient>=0.2.0->papermill) (1.4.2)\n",
      "Requirement already satisfied: jupyter-client>=6.1.5 in /Users/jandespiegeleer/opt/anaconda3/lib/python3.8/site-packages (from nbclient>=0.2.0->papermill) (6.1.7)\n",
      "Requirement already satisfied: chardet<4,>=3.0.2 in /Users/jandespiegeleer/opt/anaconda3/lib/python3.8/site-packages (from requests->papermill) (3.0.4)\n",
      "Requirement already satisfied: certifi>=2017.4.17 in /Users/jandespiegeleer/opt/anaconda3/lib/python3.8/site-packages (from requests->papermill) (2020.6.20)\n",
      "Requirement already satisfied: idna<3,>=2.5 in /Users/jandespiegeleer/opt/anaconda3/lib/python3.8/site-packages (from requests->papermill) (2.10)\n",
      "Requirement already satisfied: urllib3!=1.25.0,!=1.25.1,<1.26,>=1.21.1 in /Users/jandespiegeleer/opt/anaconda3/lib/python3.8/site-packages (from requests->papermill) (1.25.11)\n",
      "Requirement already satisfied: setuptools in /Users/jandespiegeleer/opt/anaconda3/lib/python3.8/site-packages (from jsonschema!=2.5.0,>=2.4->nbformat->papermill) (50.3.1.post20201107)\n",
      "Requirement already satisfied: pyrsistent>=0.14.0 in /Users/jandespiegeleer/opt/anaconda3/lib/python3.8/site-packages (from jsonschema!=2.5.0,>=2.4->nbformat->papermill) (0.17.3)\n",
      "Requirement already satisfied: attrs>=17.4.0 in /Users/jandespiegeleer/opt/anaconda3/lib/python3.8/site-packages (from jsonschema!=2.5.0,>=2.4->nbformat->papermill) (20.3.0)\n",
      "Requirement already satisfied: python-dateutil>=2.1 in /Users/jandespiegeleer/opt/anaconda3/lib/python3.8/site-packages (from jupyter-client>=6.1.5->nbclient>=0.2.0->papermill) (2.8.1)\n",
      "Requirement already satisfied: tornado>=4.1 in /Users/jandespiegeleer/opt/anaconda3/lib/python3.8/site-packages (from jupyter-client>=6.1.5->nbclient>=0.2.0->papermill) (6.0.4)\n",
      "Requirement already satisfied: pyzmq>=13 in /Users/jandespiegeleer/opt/anaconda3/lib/python3.8/site-packages (from jupyter-client>=6.1.5->nbclient>=0.2.0->papermill) (19.0.2)\n",
      "Building wheels for collected packages: black\n",
      "  Building wheel for black (PEP 517) ... \u001b[?25ldone\n",
      "\u001b[?25h  Created wheel for black: filename=black-20.8b1-py3-none-any.whl size=124184 sha256=31751c354472942d276658f6f2c45f8a2d8ef9f08953586ed8cea9b6851b4efe\n",
      "  Stored in directory: /Users/jandespiegeleer/Library/Caches/pip/wheels/95/a4/59/10cd5378d52f92cdb45025f040e4686e10ae5217961c25fd66\n",
      "Successfully built black\n",
      "Installing collected packages: textwrap3, ansiwrap, typed-ast, mypy-extensions, appdirs, pathspec, black, tenacity, papermill\n",
      "Successfully installed ansiwrap-0.8.4 appdirs-1.4.4 black-20.8b1 mypy-extensions-0.4.3 papermill-2.2.2 pathspec-0.8.1 tenacity-6.3.1 textwrap3-0.9.2 typed-ast-1.4.1\n"
     ]
    }
   ],
   "source": [
    "!pip install papermill"
   ]
  },
  {
   "cell_type": "code",
   "execution_count": 2,
   "metadata": {
    "id": "xtf4cGDebBoJ"
   },
   "outputs": [],
   "source": [
    "import papermill as pm\n",
    "import numpy as np"
   ]
  },
  {
   "cell_type": "code",
   "execution_count": 3,
   "metadata": {
    "id": "bGHNo8sAbBoK",
    "tags": [
     "parameters"
    ]
   },
   "outputs": [],
   "source": [
    "n = 20"
   ]
  },
  {
   "cell_type": "markdown",
   "metadata": {
    "id": "wdggayWQbBoK"
   },
   "source": [
    "# Sub Title"
   ]
  },
  {
   "cell_type": "code",
   "execution_count": 4,
   "metadata": {
    "id": "qg-_FXZPbBoK"
   },
   "outputs": [],
   "source": [
    "x = np.arange(0,n)\n",
    "y = x*2 + np.random.randn(len(x))"
   ]
  },
  {
   "cell_type": "code",
   "execution_count": 5,
   "metadata": {
    "id": "JnTG7lOobBoK"
   },
   "outputs": [],
   "source": [
    "import matplotlib.pyplot as plt\n",
    "%matplotlib inline\n",
    "import seaborn as sns\n",
    "sns.set()"
   ]
  },
  {
   "cell_type": "code",
   "execution_count": 6,
   "metadata": {
    "colab": {
     "base_uri": "https://localhost:8080/",
     "height": 338
    },
    "executionInfo": {
     "elapsed": 4340,
     "status": "ok",
     "timestamp": 1607700684702,
     "user": {
      "displayName": "Thomas Nelen",
      "photoUrl": "",
      "userId": "09198946240301374422"
     },
     "user_tz": -60
    },
    "id": "RAiDm0GzbBoK",
    "outputId": "78c599a6-b89e-433d-fee5-ae473171e92d"
   },
   "outputs": [
    {
     "data": {
      "image/png": "[encoded data removed]",
      "text/plain": [
       "<Figure size 720x360 with 1 Axes>"
      ]
     },
     "metadata": {},
     "output_type": "display_data"
    }
   ],
   "source": [
    "fig,ax = plt.subplots(1,1,figsize=(10,5))\n",
    "plt.plot(x,y,color='r')\n",
    "plt.scatter(x,y,s=40)\n",
    "plt.title(str(n) + ' Simulations');"
   ]
  },
  {
   "cell_type": "code",
   "execution_count": null,
   "metadata": {
    "id": "CfNiJcuWbBoL"
   },
   "outputs": [],
   "source": []
  }
 ],
 "metadata": {
  "celltoolbar": "Tags",
  "colab": {
   "name": "input.ipynb",
   "provenance": []
  },
  "kernelspec": {
   "display_name": "Python 3",
   "language": "python",
   "name": "python3"
  },
  "language_info": {
   "codemirror_mode": {
    "name": "ipython",
    "version": 3
   },
   "file_extension": ".py",
   "mimetype": "text/x-python",
   "name": "python",
   "nbconvert_exporter": "python",
   "pygments_lexer": "ipython3",
   "version": "3.8.5"
  },
  "toc": {
   "base_numbering": 1,
   "nav_menu": {},
   "number_sections": true,
   "sideBar": true,
   "skip_h1_title": false,
   "title_cell": "Table of Contents",
   "title_sidebar": "Contents",
   "toc_cell": false,
   "toc_position": {},
   "toc_section_display": true,
   "toc_window_display": true
  },
  "varInspector": {
   "cols": {
    "lenName": 16,
    "lenType": 16,
    "lenVar": 40
   },
   "kernels_config": {
    "python": {
     "delete_cmd_postfix": "",
     "delete_cmd_prefix": "del ",
     "library": "var_list.py",
     "varRefreshCmd": "print(var_dic_list())"
    },
    "r": {
     "delete_cmd_postfix": ") ",
     "delete_cmd_prefix": "rm(",
     "library": "var_list.r",
     "varRefreshCmd": "cat(var_dic_list()) "
    }
   },
   "types_to_exclude": [
    "module",
    "function",
    "builtin_function_or_method",
    "instance",
    "_Feature"
   ],
   "window_display": false
  }
 },
 "nbformat": 4,
 "nbformat_minor": 1
}
