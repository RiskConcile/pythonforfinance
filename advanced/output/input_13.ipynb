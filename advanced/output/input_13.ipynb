{
 "cells": [
  {
   "cell_type": "markdown",
   "metadata": {
    "id": "i760xmPvbBoI",
    "papermill": {
     "duration": 0.011762,
     "end_time": "2020-12-18T16:05:41.868514",
     "exception": false,
     "start_time": "2020-12-18T16:05:41.856752",
     "status": "completed"
    },
    "tags": []
   },
   "source": [
    "# Title"
   ]
  },
  {
   "cell_type": "code",
   "execution_count": 1,
   "metadata": {
    "colab": {
     "base_uri": "https://localhost:8080/"
    },
    "execution": {
     "iopub.execute_input": "2020-12-18T16:05:41.893389Z",
     "iopub.status.busy": "2020-12-18T16:05:41.892509Z",
     "iopub.status.idle": "2020-12-18T16:05:44.035188Z",
     "shell.execute_reply": "2020-12-18T16:05:44.036433Z"
    },
    "executionInfo": {
     "elapsed": 3443,
     "status": "ok",
     "timestamp": 1607700683781,
     "user": {
      "displayName": "Thomas Nelen",
      "photoUrl": "",
      "userId": "09198946240301374422"
     },
     "user_tz": -60
    },
    "id": "dK0W3KV2bNBC",
    "outputId": "8ea9ecbb-4594-482d-dc2c-0786855634a8",
    "papermill": {
     "duration": 2.157658,
     "end_time": "2020-12-18T16:05:44.036956",
     "exception": false,
     "start_time": "2020-12-18T16:05:41.879298",
     "status": "completed"
    },
    "tags": []
   },
   "outputs": [
    {
     "name": "stdout",
     "output_type": "stream",
     "text": [
      "Requirement already satisfied: papermill in /Users/jandespiegeleer/opt/anaconda3/lib/python3.8/site-packages (2.2.2)\r\n"
     ]
    },
    {
     "name": "stdout",
     "output_type": "stream",
     "text": [
      "Requirement already satisfied: requests in /Users/jandespiegeleer/opt/anaconda3/lib/python3.8/site-packages (from papermill) (2.24.0)\r\n",
      "Requirement already satisfied: black in /Users/jandespiegeleer/opt/anaconda3/lib/python3.8/site-packages (from papermill) (20.8b1)\r\n",
      "Requirement already satisfied: entrypoints in /Users/jandespiegeleer/opt/anaconda3/lib/python3.8/site-packages (from papermill) (0.3)\r\n",
      "Requirement already satisfied: click in /Users/jandespiegeleer/opt/anaconda3/lib/python3.8/site-packages (from papermill) (7.1.2)\r\n"
     ]
    },
    {
     "name": "stdout",
     "output_type": "stream",
     "text": [
      "Requirement already satisfied: tenacity in /Users/jandespiegeleer/opt/anaconda3/lib/python3.8/site-packages (from papermill) (6.3.1)\r\n",
      "Requirement already satisfied: nbformat in /Users/jandespiegeleer/opt/anaconda3/lib/python3.8/site-packages (from papermill) (5.0.8)\r\n",
      "Requirement already satisfied: ansiwrap in /Users/jandespiegeleer/opt/anaconda3/lib/python3.8/site-packages (from papermill) (0.8.4)\r\n",
      "Requirement already satisfied: pyyaml in /Users/jandespiegeleer/opt/anaconda3/lib/python3.8/site-packages (from papermill) (5.3.1)\r\n",
      "Requirement already satisfied: tqdm>=4.32.2 in /Users/jandespiegeleer/opt/anaconda3/lib/python3.8/site-packages (from papermill) (4.50.2)\r\n",
      "Requirement already satisfied: nbclient>=0.2.0 in /Users/jandespiegeleer/opt/anaconda3/lib/python3.8/site-packages (from papermill) (0.5.1)\r\n"
     ]
    },
    {
     "name": "stdout",
     "output_type": "stream",
     "text": [
      "Requirement already satisfied: urllib3!=1.25.0,!=1.25.1,<1.26,>=1.21.1 in /Users/jandespiegeleer/opt/anaconda3/lib/python3.8/site-packages (from requests->papermill) (1.25.11)\r\n",
      "Requirement already satisfied: idna<3,>=2.5 in /Users/jandespiegeleer/opt/anaconda3/lib/python3.8/site-packages (from requests->papermill) (2.10)\r\n",
      "Requirement already satisfied: certifi>=2017.4.17 in /Users/jandespiegeleer/opt/anaconda3/lib/python3.8/site-packages (from requests->papermill) (2020.6.20)\r\n",
      "Requirement already satisfied: chardet<4,>=3.0.2 in /Users/jandespiegeleer/opt/anaconda3/lib/python3.8/site-packages (from requests->papermill) (3.0.4)\r\n",
      "Requirement already satisfied: appdirs in /Users/jandespiegeleer/opt/anaconda3/lib/python3.8/site-packages (from black->papermill) (1.4.4)\r\n",
      "Requirement already satisfied: typed-ast>=1.4.0 in /Users/jandespiegeleer/opt/anaconda3/lib/python3.8/site-packages (from black->papermill) (1.4.1)\r\n",
      "Requirement already satisfied: mypy-extensions>=0.4.3 in /Users/jandespiegeleer/opt/anaconda3/lib/python3.8/site-packages (from black->papermill) (0.4.3)\r\n",
      "Requirement already satisfied: regex>=2020.1.8 in /Users/jandespiegeleer/opt/anaconda3/lib/python3.8/site-packages (from black->papermill) (2020.10.15)\r\n",
      "Requirement already satisfied: toml>=0.10.1 in /Users/jandespiegeleer/opt/anaconda3/lib/python3.8/site-packages (from black->papermill) (0.10.1)\r\n",
      "Requirement already satisfied: pathspec<1,>=0.6 in /Users/jandespiegeleer/opt/anaconda3/lib/python3.8/site-packages (from black->papermill) (0.8.1)\r\n",
      "Requirement already satisfied: typing-extensions>=3.7.4 in /Users/jandespiegeleer/opt/anaconda3/lib/python3.8/site-packages (from black->papermill) (3.7.4.3)\r\n",
      "Requirement already satisfied: six>=1.9.0 in /Users/jandespiegeleer/opt/anaconda3/lib/python3.8/site-packages (from tenacity->papermill) (1.15.0)\r\n",
      "Requirement already satisfied: jsonschema!=2.5.0,>=2.4 in /Users/jandespiegeleer/opt/anaconda3/lib/python3.8/site-packages (from nbformat->papermill) (3.2.0)\r\n"
     ]
    },
    {
     "name": "stdout",
     "output_type": "stream",
     "text": [
      "Requirement already satisfied: jupyter-core in /Users/jandespiegeleer/opt/anaconda3/lib/python3.8/site-packages (from nbformat->papermill) (4.6.3)\r\n",
      "Requirement already satisfied: ipython-genutils in /Users/jandespiegeleer/opt/anaconda3/lib/python3.8/site-packages (from nbformat->papermill) (0.2.0)\r\n",
      "Requirement already satisfied: traitlets>=4.1 in /Users/jandespiegeleer/opt/anaconda3/lib/python3.8/site-packages (from nbformat->papermill) (5.0.5)\r\n",
      "Requirement already satisfied: textwrap3>=0.9.2 in /Users/jandespiegeleer/opt/anaconda3/lib/python3.8/site-packages (from ansiwrap->papermill) (0.9.2)\r\n",
      "Requirement already satisfied: nest-asyncio in /Users/jandespiegeleer/opt/anaconda3/lib/python3.8/site-packages (from nbclient>=0.2.0->papermill) (1.4.2)\r\n",
      "Requirement already satisfied: async-generator in /Users/jandespiegeleer/opt/anaconda3/lib/python3.8/site-packages (from nbclient>=0.2.0->papermill) (1.10)\r\n",
      "Requirement already satisfied: jupyter-client>=6.1.5 in /Users/jandespiegeleer/opt/anaconda3/lib/python3.8/site-packages (from nbclient>=0.2.0->papermill) (6.1.7)\r\n",
      "Requirement already satisfied: pyrsistent>=0.14.0 in /Users/jandespiegeleer/opt/anaconda3/lib/python3.8/site-packages (from jsonschema!=2.5.0,>=2.4->nbformat->papermill) (0.17.3)\r\n",
      "Requirement already satisfied: attrs>=17.4.0 in /Users/jandespiegeleer/opt/anaconda3/lib/python3.8/site-packages (from jsonschema!=2.5.0,>=2.4->nbformat->papermill) (20.3.0)\r\n"
     ]
    },
    {
     "name": "stdout",
     "output_type": "stream",
     "text": [
      "Requirement already satisfied: setuptools in /Users/jandespiegeleer/opt/anaconda3/lib/python3.8/site-packages (from jsonschema!=2.5.0,>=2.4->nbformat->papermill) (50.3.1.post20201107)\r\n",
      "Requirement already satisfied: pyzmq>=13 in /Users/jandespiegeleer/opt/anaconda3/lib/python3.8/site-packages (from jupyter-client>=6.1.5->nbclient>=0.2.0->papermill) (19.0.2)\r\n",
      "Requirement already satisfied: python-dateutil>=2.1 in /Users/jandespiegeleer/opt/anaconda3/lib/python3.8/site-packages (from jupyter-client>=6.1.5->nbclient>=0.2.0->papermill) (2.8.1)\r\n",
      "Requirement already satisfied: tornado>=4.1 in /Users/jandespiegeleer/opt/anaconda3/lib/python3.8/site-packages (from jupyter-client>=6.1.5->nbclient>=0.2.0->papermill) (6.0.4)\r\n"
     ]
    }
   ],
   "source": [
    "!pip install papermill"
   ]
  },
  {
   "cell_type": "code",
   "execution_count": 2,
   "metadata": {
    "execution": {
     "iopub.execute_input": "2020-12-18T16:05:44.078585Z",
     "iopub.status.busy": "2020-12-18T16:05:44.077598Z",
     "iopub.status.idle": "2020-12-18T16:05:44.558459Z",
     "shell.execute_reply": "2020-12-18T16:05:44.559274Z"
    },
    "id": "xtf4cGDebBoJ",
    "papermill": {
     "duration": 0.505757,
     "end_time": "2020-12-18T16:05:44.559411",
     "exception": false,
     "start_time": "2020-12-18T16:05:44.053654",
     "status": "completed"
    },
    "tags": []
   },
   "outputs": [],
   "source": [
    "import papermill as pm\n",
    "import numpy as np"
   ]
  },
  {
   "cell_type": "code",
   "execution_count": 3,
   "metadata": {
    "execution": {
     "iopub.execute_input": "2020-12-18T16:05:44.581558Z",
     "iopub.status.busy": "2020-12-18T16:05:44.580816Z",
     "iopub.status.idle": "2020-12-18T16:05:44.583121Z",
     "shell.execute_reply": "2020-12-18T16:05:44.583844Z"
    },
    "id": "bGHNo8sAbBoK",
    "papermill": {
     "duration": 0.014273,
     "end_time": "2020-12-18T16:05:44.583974",
     "exception": false,
     "start_time": "2020-12-18T16:05:44.569701",
     "status": "completed"
    },
    "tags": [
     "parameters"
    ]
   },
   "outputs": [],
   "source": [
    "n = 20"
   ]
  },
  {
   "cell_type": "code",
   "execution_count": 4,
   "metadata": {
    "execution": {
     "iopub.execute_input": "2020-12-18T16:05:44.602192Z",
     "iopub.status.busy": "2020-12-18T16:05:44.601070Z",
     "iopub.status.idle": "2020-12-18T16:05:44.605167Z",
     "shell.execute_reply": "2020-12-18T16:05:44.603971Z"
    },
    "papermill": {
     "duration": 0.015048,
     "end_time": "2020-12-18T16:05:44.605334",
     "exception": false,
     "start_time": "2020-12-18T16:05:44.590286",
     "status": "completed"
    },
    "tags": [
     "injected-parameters"
    ]
   },
   "outputs": [],
   "source": [
    "# Parameters\n",
    "n = 13\n"
   ]
  },
  {
   "cell_type": "markdown",
   "metadata": {
    "id": "wdggayWQbBoK",
    "papermill": {
     "duration": 0.012398,
     "end_time": "2020-12-18T16:05:44.625799",
     "exception": false,
     "start_time": "2020-12-18T16:05:44.613401",
     "status": "completed"
    },
    "tags": []
   },
   "source": [
    "# Sub Title"
   ]
  },
  {
   "cell_type": "code",
   "execution_count": 5,
   "metadata": {
    "execution": {
     "iopub.execute_input": "2020-12-18T16:05:44.650446Z",
     "iopub.status.busy": "2020-12-18T16:05:44.649209Z",
     "iopub.status.idle": "2020-12-18T16:05:44.652817Z",
     "shell.execute_reply": "2020-12-18T16:05:44.654288Z"
    },
    "id": "qg-_FXZPbBoK",
    "papermill": {
     "duration": 0.019871,
     "end_time": "2020-12-18T16:05:44.654551",
     "exception": false,
     "start_time": "2020-12-18T16:05:44.634680",
     "status": "completed"
    },
    "tags": []
   },
   "outputs": [],
   "source": [
    "x = np.arange(0,n)\n",
    "y = x*2 + np.random.randn(len(x))"
   ]
  },
  {
   "cell_type": "code",
   "execution_count": 6,
   "metadata": {
    "execution": {
     "iopub.execute_input": "2020-12-18T16:05:44.681558Z",
     "iopub.status.busy": "2020-12-18T16:05:44.680655Z",
     "iopub.status.idle": "2020-12-18T16:05:45.766225Z",
     "shell.execute_reply": "2020-12-18T16:05:45.766979Z"
    },
    "id": "JnTG7lOobBoK",
    "papermill": {
     "duration": 1.100697,
     "end_time": "2020-12-18T16:05:45.767120",
     "exception": false,
     "start_time": "2020-12-18T16:05:44.666423",
     "status": "completed"
    },
    "tags": []
   },
   "outputs": [],
   "source": [
    "import matplotlib.pyplot as plt\n",
    "%matplotlib inline\n",
    "import seaborn as sns\n",
    "sns.set()"
   ]
  },
  {
   "cell_type": "code",
   "execution_count": 7,
   "metadata": {
    "colab": {
     "base_uri": "https://localhost:8080/",
     "height": 338
    },
    "execution": {
     "iopub.execute_input": "2020-12-18T16:05:45.801691Z",
     "iopub.status.busy": "2020-12-18T16:05:45.800611Z",
     "iopub.status.idle": "2020-12-18T16:05:45.948121Z",
     "shell.execute_reply": "2020-12-18T16:05:45.948903Z"
    },
    "executionInfo": {
     "elapsed": 4340,
     "status": "ok",
     "timestamp": 1607700684702,
     "user": {
      "displayName": "Thomas Nelen",
      "photoUrl": "",
      "userId": "09198946240301374422"
     },
     "user_tz": -60
    },
    "id": "RAiDm0GzbBoK",
    "outputId": "78c599a6-b89e-433d-fee5-ae473171e92d",
    "papermill": {
     "duration": 0.174132,
     "end_time": "2020-12-18T16:05:45.949041",
     "exception": false,
     "start_time": "2020-12-18T16:05:45.774909",
     "status": "completed"
    },
    "tags": []
   },
   "outputs": [
    {
     "data": {
      "image/png": "[encoded data removed]",
      "text/plain": [
       "<Figure size 720x360 with 1 Axes>"
      ]
     },
     "metadata": {},
     "output_type": "display_data"
    }
   ],
   "source": [
    "fig,ax = plt.subplots(1,1,figsize=(10,5))\n",
    "plt.plot(x,y,color='r')\n",
    "plt.scatter(x,y,s=40)\n",
    "plt.title(str(n) + ' Simulations');"
   ]
  },
  {
   "cell_type": "code",
   "execution_count": null,
   "metadata": {
    "id": "CfNiJcuWbBoL",
    "papermill": {
     "duration": 0.008145,
     "end_time": "2020-12-18T16:05:45.999331",
     "exception": false,
     "start_time": "2020-12-18T16:05:45.991186",
     "status": "completed"
    },
    "tags": []
   },
   "outputs": [],
   "source": []
  }
 ],
 "metadata": {
  "celltoolbar": "Tags",
  "colab": {
   "name": "input.ipynb",
   "provenance": []
  },
  "kernelspec": {
   "display_name": "Python 3",
   "language": "python",
   "name": "python3"
  },
  "language_info": {
   "codemirror_mode": {
    "name": "ipython",
    "version": 3
   },
   "file_extension": ".py",
   "mimetype": "text/x-python",
   "name": "python",
   "nbconvert_exporter": "python",
   "pygments_lexer": "ipython3",
   "version": "3.8.5"
  },
  "papermill": {
   "default_parameters": {},
   "duration": 5.514705,
   "end_time": "2020-12-18T16:05:46.432644",
   "environment_variables": {},
   "exception": null,
   "input_path": "input.ipynb",
   "output_path": "../output/input_13.ipynb",
   "parameters": {
    "n": 13
   },
   "start_time": "2020-12-18T16:05:40.917939",
   "version": "2.2.2"
  },
  "toc": {
   "base_numbering": 1,
   "nav_menu": {},
   "number_sections": true,
   "sideBar": true,
   "skip_h1_title": false,
   "title_cell": "Table of Contents",
   "title_sidebar": "Contents",
   "toc_cell": false,
   "toc_position": {},
   "toc_section_display": true,
   "toc_window_display": true
  },
  "varInspector": {
   "cols": {
    "lenName": 16,
    "lenType": 16,
    "lenVar": 40
   },
   "kernels_config": {
    "python": {
     "delete_cmd_postfix": "",
     "delete_cmd_prefix": "del ",
     "library": "var_list.py",
     "varRefreshCmd": "print(var_dic_list())"
    },
    "r": {
     "delete_cmd_postfix": ") ",
     "delete_cmd_prefix": "rm(",
     "library": "var_list.r",
     "varRefreshCmd": "cat(var_dic_list()) "
    }
   },
   "types_to_exclude": [
    "module",
    "function",
    "builtin_function_or_method",
    "instance",
    "_Feature"
   ],
   "window_display": false
  }
 },
 "nbformat": 4,
 "nbformat_minor": 0
}