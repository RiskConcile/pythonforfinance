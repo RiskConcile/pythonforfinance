{
 "cells": [
  {
   "cell_type": "code",
   "execution_count": 1,
   "metadata": {
    "colab": {
     "base_uri": "https://localhost:8080/"
    },
    "executionInfo": {
     "elapsed": 15506,
     "status": "ok",
     "timestamp": 1608042911887,
     "user": {
      "displayName": "Thomas Nelen",
      "photoUrl": "",
      "userId": "09198946240301374422"
     },
     "user_tz": -60
    },
    "id": "n9QdZHl3SvCu",
    "outputId": "ca3b4001-e49c-4745-fd51-1e209df0724d"
   },
   "outputs": [],
   "source": [
    "import importlib\n",
    " \n",
    "if importlib.util.find_spec('fsspec') is None:\n",
    "  !pip install fsspec\n",
    "if importlib.util.find_spec('s3fs') is None:\n",
    "  !pip install s3fs"
   ]
  },
  {
   "cell_type": "code",
   "execution_count": 2,
   "metadata": {
    "executionInfo": {
     "elapsed": 15950,
     "status": "ok",
     "timestamp": 1608042912336,
     "user": {
      "displayName": "Thomas Nelen",
      "photoUrl": "",
      "userId": "09198946240301374422"
     },
     "user_tz": -60
    },
    "id": "g-037lHRSqe8"
   },
   "outputs": [],
   "source": [
    "import numpy as np\n",
    "import pandas as pd\n",
    "from sklearn import linear_model\n",
    "import matplotlib.pyplot as plt\n",
    "%matplotlib inline\n",
    "import seaborn as sns\n",
    "sns.set()"
   ]
  },
  {
   "cell_type": "markdown",
   "metadata": {
    "id": "QkUeoK2xSqe-"
   },
   "source": [
    "Read the files"
   ]
  },
  {
   "cell_type": "code",
   "execution_count": 3,
   "metadata": {
    "executionInfo": {
     "elapsed": 20684,
     "status": "ok",
     "timestamp": 1608042917072,
     "user": {
      "displayName": "Thomas Nelen",
      "photoUrl": "",
      "userId": "09198946240301374422"
     },
     "user_tz": -60
    },
    "id": "F5pGYKWSSqe-"
   },
   "outputs": [],
   "source": [
    "#read csv file\n",
    "portfolio = pd.read_csv('s3://lfspf/Portfolio.csv',parse_dates=True,index_col='T')\n"
   ]
  },
  {
   "cell_type": "code",
   "execution_count": 4,
   "metadata": {
    "executionInfo": {
     "elapsed": 20685,
     "status": "ok",
     "timestamp": 1608042917075,
     "user": {
      "displayName": "Thomas Nelen",
      "photoUrl": "",
      "userId": "09198946240301374422"
     },
     "user_tz": -60
    },
    "id": "ID5miv_ASqe_"
   },
   "outputs": [],
   "source": [
    "#tranform this into a matrix\n",
    "X = portfolio.values\n",
    "\n",
    "#the last column is the target\n",
    "Y = X[:,-1]\n",
    "\n",
    "#create the design matrix2\n",
    "X = X[:,0:-1]\n",
    "\n",
    "index_name = portfolio.columns[:-1]"
   ]
  },
  {
   "cell_type": "markdown",
   "metadata": {
    "id": "iznACL7dSqe_"
   },
   "source": [
    "Set up the ridge regression (fit_intercept=True, in order to allow normalization to be true)"
   ]
  },
  {
   "cell_type": "code",
   "execution_count": 5,
   "metadata": {
    "colab": {
     "base_uri": "https://localhost:8080/"
    },
    "executionInfo": {
     "elapsed": 20680,
     "status": "ok",
     "timestamp": 1608042917075,
     "user": {
      "displayName": "Thomas Nelen",
      "photoUrl": "",
      "userId": "09198946240301374422"
     },
     "user_tz": -60
    },
    "id": "6Df-vzw9Sqe_",
    "outputId": "66452ea3-f154-44dc-9e35-30c1ba1ee1d4"
   },
   "outputs": [
    {
     "data": {
      "text/plain": [
       "Ridge(alpha=0.2, normalize=True)"
      ]
     },
     "execution_count": 5,
     "metadata": {},
     "output_type": "execute_result"
    }
   ],
   "source": [
    "#setting up the model\n",
    "Alpha = 0.2\n",
    "ridge_model = linear_model.Ridge(fit_intercept=True, alpha=Alpha,copy_X=True,normalize=True)\n",
    "ridge_model.fit(X,Y)"
   ]
  },
  {
   "cell_type": "code",
   "execution_count": 6,
   "metadata": {
    "colab": {
     "base_uri": "https://localhost:8080/"
    },
    "executionInfo": {
     "elapsed": 20677,
     "status": "ok",
     "timestamp": 1608042917075,
     "user": {
      "displayName": "Thomas Nelen",
      "photoUrl": "",
      "userId": "09198946240301374422"
     },
     "user_tz": -60
    },
    "id": "TLMrvPM7SqfA",
    "outputId": "4563f0f8-31f3-4736-c723-42ec3ec63cef"
   },
   "outputs": [
    {
     "data": {
      "text/plain": [
       "array([ 0.06875051,  0.35039763,  0.3661553 ,  0.09120387,  0.12143333,\n",
       "       -0.06298251,  0.22549215])"
      ]
     },
     "execution_count": 6,
     "metadata": {},
     "output_type": "execute_result"
    }
   ],
   "source": [
    "ridge_model.coef_"
   ]
  },
  {
   "cell_type": "code",
   "execution_count": 7,
   "metadata": {
    "colab": {
     "base_uri": "https://localhost:8080/"
    },
    "executionInfo": {
     "elapsed": 20672,
     "status": "ok",
     "timestamp": 1608042917076,
     "user": {
      "displayName": "Thomas Nelen",
      "photoUrl": "",
      "userId": "09198946240301374422"
     },
     "user_tz": -60
    },
    "id": "oXtse2HuSqfA",
    "outputId": "23222c5e-bff2-4007-ba9e-459a5ea18438"
   },
   "outputs": [
    {
     "data": {
      "text/plain": [
       "LinearRegression()"
      ]
     },
     "execution_count": 7,
     "metadata": {},
     "output_type": "execute_result"
    }
   ],
   "source": [
    "ols_model = linear_model.LinearRegression(fit_intercept=True)\n",
    "ols_model.fit(X,Y)"
   ]
  },
  {
   "cell_type": "code",
   "execution_count": 8,
   "metadata": {
    "colab": {
     "base_uri": "https://localhost:8080/"
    },
    "executionInfo": {
     "elapsed": 20668,
     "status": "ok",
     "timestamp": 1608042917076,
     "user": {
      "displayName": "Thomas Nelen",
      "photoUrl": "",
      "userId": "09198946240301374422"
     },
     "user_tz": -60
    },
    "id": "llLrEG8SSqfA",
    "outputId": "6bb5ef7a-2083-441b-8dbb-cc18bf0cd77c"
   },
   "outputs": [
    {
     "name": "stdout",
     "output_type": "stream",
     "text": [
      "RSquared OLS\n",
      "0.5721537153344336\n",
      "RSquared Ridge\n",
      "0.560088140164718\n"
     ]
    }
   ],
   "source": [
    "print('RSquared OLS')\n",
    "print(ols_model.score(X,Y))\n",
    "print('RSquared Ridge')\n",
    "print(ridge_model.score(X,Y))"
   ]
  },
  {
   "cell_type": "code",
   "execution_count": 9,
   "metadata": {
    "colab": {
     "base_uri": "https://localhost:8080/"
    },
    "executionInfo": {
     "elapsed": 20665,
     "status": "ok",
     "timestamp": 1608042917078,
     "user": {
      "displayName": "Thomas Nelen",
      "photoUrl": "",
      "userId": "09198946240301374422"
     },
     "user_tz": -60
    },
    "id": "gPQMrKztSqfB",
    "outputId": "1fd50daa-806d-4ec4-ee58-179bf67cd3bf"
   },
   "outputs": [
    {
     "name": "stdout",
     "output_type": "stream",
     "text": [
      "[0.04550743]\n"
     ]
    }
   ],
   "source": [
    "#using the function to estimate the portfolio return\n",
    "X_test = np.array([0.01 , 0.01, 0.02 , -0.05 , 0.0, 0.01,0.07])\n",
    "X_test = X_test.reshape((1,len(X_test)))\n",
    "\n",
    "Y_test = ols_model.predict(X_test)\n",
    "print(Y_test)"
   ]
  },
  {
   "cell_type": "code",
   "execution_count": 10,
   "metadata": {
    "colab": {
     "base_uri": "https://localhost:8080/",
     "height": 695
    },
    "executionInfo": {
     "elapsed": 21158,
     "status": "ok",
     "timestamp": 1608042917576,
     "user": {
      "displayName": "Thomas Nelen",
      "photoUrl": "",
      "userId": "09198946240301374422"
     },
     "user_tz": -60
    },
    "id": "s2MMJRyuSqfB",
    "outputId": "4e0cca33-fec0-42b3-f79c-dc5259c9cb28"
   },
   "outputs": [
    {
     "name": "stdout",
     "output_type": "stream",
     "text": [
      "Gross Exposure OLS :205.76\n",
      "\n",
      "Gross Exposure Ridge :128.64\n",
      "\n"
     ]
    },
    {
     "data": {
      "image/png": "[encoded data removed]",
      "text/plain": [
       "<Figure size 720x720 with 2 Axes>"
      ]
     },
     "metadata": {},
     "output_type": "display_data"
    }
   ],
   "source": [
    "#OLS\n",
    "plt.figure(figsize=(10,10))\n",
    "plt.subplot(2,1,1)\n",
    "\n",
    "y_pos = np.arange(len(index_name))\n",
    "hedge_ols = ols_model.coef_\n",
    "plt.barh(y=y_pos, width=hedge_ols*100, align='center', alpha=0.4)\n",
    "plt.yticks(y_pos, index_name)\n",
    "plt.xlabel('Hedge Ratio (%)')\n",
    "plt.title('Hedging Portfolio')\n",
    "xmin, xmax = plt.xlim() \n",
    "print('Gross Exposure OLS :{d:0.2f}\\n'.format(d=100*np.sum(np.abs(hedge_ols))))\n",
    "\n",
    "\n",
    "#Ridge Regression\n",
    "plt.subplot(2,1,2)\n",
    "hedge_ridge = ridge_model.coef_\n",
    "plt.barh(y=y_pos, width=hedge_ridge*100, align='center', alpha=0.4)\n",
    "plt.yticks(y_pos, index_name)\n",
    "plt.xlabel('Hedge Ratio (%)')\n",
    "plt.title('Hedging Portfolio Alpha='+ str(Alpha))\n",
    "plt.xlim([xmin,xmax])\n",
    "print('Gross Exposure Ridge :{d:0.2f}\\n'.format(d=100*np.sum(np.abs(hedge_ridge))))\n",
    "\n",
    "\n"
   ]
  },
  {
   "cell_type": "markdown",
   "metadata": {
    "id": "5VQnFqLqSqfB"
   },
   "source": [
    "Study the impact of the ridge regression on the weights"
   ]
  },
  {
   "cell_type": "code",
   "execution_count": 11,
   "metadata": {
    "colab": {
     "base_uri": "https://localhost:8080/",
     "height": 627
    },
    "executionInfo": {
     "elapsed": 21898,
     "status": "ok",
     "timestamp": 1608042918321,
     "user": {
      "displayName": "Thomas Nelen",
      "photoUrl": "",
      "userId": "09198946240301374422"
     },
     "user_tz": -60
    },
    "id": "q_Z-qGFYSqfB",
    "outputId": "ffbed5a3-0618-4d52-e601-fac0181a9fc3"
   },
   "outputs": [
    {
     "data": {
      "image/png": "[encoded data removed]",
      "text/plain": [
       "<Figure size 720x720 with 1 Axes>"
      ]
     },
     "metadata": {},
     "output_type": "display_data"
    }
   ],
   "source": [
    "plt.figure(figsize=(10,10))\n",
    "plt.barh(y=y_pos, width=(hedge_ridge-hedge_ols)*100, align='center', alpha=0.4)\n",
    "plt.yticks(y_pos, index_name)\n",
    "plt.xlabel('Hedge Ratio (%)')\n",
    "plt.title('Hedging Portfolio : change in hedge ratio');"
   ]
  },
  {
   "cell_type": "markdown",
   "metadata": {
    "id": "tPFXXGNkSqfC"
   },
   "source": [
    "For different values of Alpha"
   ]
  },
  {
   "cell_type": "code",
   "execution_count": 12,
   "metadata": {
    "executionInfo": {
     "elapsed": 21897,
     "status": "ok",
     "timestamp": 1608042918322,
     "user": {
      "displayName": "Thomas Nelen",
      "photoUrl": "",
      "userId": "09198946240301374422"
     },
     "user_tz": -60
    },
    "id": "CJLfXMO_SqfC"
   },
   "outputs": [],
   "source": [
    "alpha = np.power(10,np.arange(-2,0,0.005))"
   ]
  },
  {
   "cell_type": "code",
   "execution_count": 13,
   "metadata": {
    "executionInfo": {
     "elapsed": 21896,
     "status": "ok",
     "timestamp": 1608042918323,
     "user": {
      "displayName": "Thomas Nelen",
      "photoUrl": "",
      "userId": "09198946240301374422"
     },
     "user_tz": -60
    },
    "id": "8ozncXWrSqfC"
   },
   "outputs": [],
   "source": [
    "weights = np.zeros((len(alpha),len(index_name)),dtype=float)"
   ]
  },
  {
   "cell_type": "code",
   "execution_count": 14,
   "metadata": {
    "executionInfo": {
     "elapsed": 21896,
     "status": "ok",
     "timestamp": 1608042918325,
     "user": {
      "displayName": "Thomas Nelen",
      "photoUrl": "",
      "userId": "09198946240301374422"
     },
     "user_tz": -60
    },
    "id": "09g7rty4SqfC"
   },
   "outputs": [],
   "source": [
    "for i in np.arange(0,len(alpha)):\n",
    "    ridge_model = linear_model.Ridge(fit_intercept=True, alpha=alpha[i],copy_X=True,normalize=True)\n",
    "    ridge_model.fit(X,Y)\n",
    "    weights[i,:]= ridge_model.coef_\n",
    "    "
   ]
  },
  {
   "cell_type": "code",
   "execution_count": 15,
   "metadata": {
    "colab": {
     "base_uri": "https://localhost:8080/",
     "height": 618
    },
    "executionInfo": {
     "elapsed": 23148,
     "status": "ok",
     "timestamp": 1608042919582,
     "user": {
      "displayName": "Thomas Nelen",
      "photoUrl": "",
      "userId": "09198946240301374422"
     },
     "user_tz": -60
    },
    "id": "N3HRRGvPSqfC",
    "outputId": "315801d0-be1b-4c18-80d6-251604c35dfe"
   },
   "outputs": [
    {
     "data": {
      "image/png": "[encoded data removed]",
      "text/plain": [
       "<Figure size 720x720 with 1 Axes>"
      ]
     },
     "metadata": {},
     "output_type": "display_data"
    }
   ],
   "source": [
    "plt.figure(figsize=(10,10))    \n",
    "for i in np.arange(0,len(index_name)):\n",
    "    plt.semilogx(alpha[:],weights[:,i]*100,label=index_name[i])\n",
    "\n",
    "plt.xlabel('log(alpha)')\n",
    "plt.ylabel('weight(%)')\n",
    "plt.legend(loc=\"upper right\");\n",
    "    "
   ]
  },
  {
   "cell_type": "markdown",
   "metadata": {
    "id": "KYfrSdIZSqfC"
   },
   "source": [
    "Using cross validation to find the optimal value of the ridge factor."
   ]
  },
  {
   "cell_type": "code",
   "execution_count": 16,
   "metadata": {
    "colab": {
     "base_uri": "https://localhost:8080/"
    },
    "executionInfo": {
     "elapsed": 28507,
     "status": "ok",
     "timestamp": 1608042924945,
     "user": {
      "displayName": "Thomas Nelen",
      "photoUrl": "",
      "userId": "09198946240301374422"
     },
     "user_tz": -60
    },
    "id": "3IA80Oy9SqfD",
    "outputId": "27be5531-fd49-44c5-a742-5f310c0f3f6d"
   },
   "outputs": [
    {
     "name": "stdout",
     "output_type": "stream",
     "text": [
      "Optimal Value for Alpha:0.5188\n",
      "[ 0.06832907  0.28796093  0.31685968  0.09320868  0.10000188 -0.00974618\n",
      "  0.17579949]\n"
     ]
    }
   ],
   "source": [
    "# use cross validation using 10 Fold cross validation\n",
    "Ridge=linear_model.RidgeCV(alphas=alpha,fit_intercept=True,normalize=True,cv=10)\n",
    "Ridge.fit(X,Y)\n",
    "print('Optimal Value for Alpha:{v:0.4f}'.format(v=Ridge.alpha_))\n",
    "print(Ridge.coef_)"
   ]
  },
  {
   "cell_type": "code",
   "execution_count": 17,
   "metadata": {
    "colab": {
     "base_uri": "https://localhost:8080/"
    },
    "executionInfo": {
     "elapsed": 28502,
     "status": "ok",
     "timestamp": 1608042924945,
     "user": {
      "displayName": "Thomas Nelen",
      "photoUrl": "",
      "userId": "09198946240301374422"
     },
     "user_tz": -60
    },
    "id": "qteWZsiFSqfD",
    "outputId": "9d097373-6826-45c1-8a95-cb886ec73c3a"
   },
   "outputs": [
    {
     "name": "stdout",
     "output_type": "stream",
     "text": [
      "Gross 1.05\n"
     ]
    }
   ],
   "source": [
    "print('Gross',np.round(np.sum(np.abs(Ridge.coef_)),2))"
   ]
  },
  {
   "cell_type": "code",
   "execution_count": 18,
   "metadata": {
    "colab": {
     "base_uri": "https://localhost:8080/",
     "height": 644
    },
    "executionInfo": {
     "elapsed": 29415,
     "status": "ok",
     "timestamp": 1608042925862,
     "user": {
      "displayName": "Thomas Nelen",
      "photoUrl": "",
      "userId": "09198946240301374422"
     },
     "user_tz": -60
    },
    "id": "J69ZTbwsSqfD",
    "outputId": "efad4e6a-62c7-44f1-c052-329fd823bade"
   },
   "outputs": [
    {
     "data": {
      "text/plain": [
       "(-26.300326989847285, 43.74956999876691)"
      ]
     },
     "execution_count": 18,
     "metadata": {},
     "output_type": "execute_result"
    },
    {
     "data": {
      "image/png": "[encoded data removed]",
      "text/plain": [
       "<Figure size 720x720 with 2 Axes>"
      ]
     },
     "metadata": {},
     "output_type": "display_data"
    }
   ],
   "source": [
    "#calc with new alpha\n",
    "ridge_model = linear_model.Ridge(fit_intercept=True, alpha=Ridge.alpha_,copy_X=True,normalize=True)\n",
    "ridge_model.fit(X,Y)\n",
    "\n",
    "\n",
    "#OLS\n",
    "plt.figure(figsize=(10,10))\n",
    "plt.subplot(2,1,1)\n",
    "y_pos = np.arange(len(index_name))\n",
    "hedge_ols = ols_model.coef_\n",
    "plt.barh(y=y_pos, width=hedge_ols*100, align='center', alpha=0.4)\n",
    "plt.yticks(y_pos, index_name)\n",
    "plt.xlabel('Hedge Ratio (%)')\n",
    "plt.title('Hedging Portfolio')\n",
    "xmin, xmax = plt.xlim() \n",
    "\n",
    "#Optimal Ridge Regression\n",
    "plt.subplot(2,1,2)\n",
    "hedge_ridge = ridge_model.coef_\n",
    "plt.barh(y=y_pos, width=ridge_model.coef_*100, align='center', alpha=0.4)\n",
    "plt.yticks(y_pos, index_name)\n",
    "plt.xlabel('Hedge Ratio (%)')\n",
    "plt.title('Hedging Portfolio (alpha =%5.5f)' % Ridge.alpha_ )\n",
    "plt.xlim([xmin,xmax])"
   ]
  },
  {
   "cell_type": "code",
   "execution_count": null,
   "metadata": {
    "executionInfo": {
     "elapsed": 29414,
     "status": "ok",
     "timestamp": 1608042925863,
     "user": {
      "displayName": "Thomas Nelen",
      "photoUrl": "",
      "userId": "09198946240301374422"
     },
     "user_tz": -60
    },
    "id": "Myr3Dt3ASqfD"
   },
   "outputs": [],
   "source": []
  }
 ],
 "metadata": {
  "anaconda-cloud": {},
  "colab": {
   "collapsed_sections": [],
   "name": "LSExample-Ridge.ipynb",
   "provenance": []
  },
  "kernelspec": {
   "display_name": "Python 3",
   "language": "python",
   "name": "python3"
  },
  "language_info": {
   "codemirror_mode": {
    "name": "ipython",
    "version": 3
   },
   "file_extension": ".py",
   "mimetype": "text/x-python",
   "name": "python",
   "nbconvert_exporter": "python",
   "pygments_lexer": "ipython3",
   "version": "3.6.10"
  },
  "toc": {
   "base_numbering": 1,
   "nav_menu": {},
   "number_sections": true,
   "sideBar": true,
   "skip_h1_title": false,
   "title_cell": "Table of Contents",
   "title_sidebar": "Contents",
   "toc_cell": false,
   "toc_position": {},
   "toc_section_display": true,
   "toc_window_display": false
  },
  "varInspector": {
   "cols": {
    "lenName": 16,
    "lenType": 16,
    "lenVar": 40
   },
   "kernels_config": {
    "python": {
     "delete_cmd_postfix": "",
     "delete_cmd_prefix": "del ",
     "library": "var_list.py",
     "varRefreshCmd": "print(var_dic_list())"
    },
    "r": {
     "delete_cmd_postfix": ") ",
     "delete_cmd_prefix": "rm(",
     "library": "var_list.r",
     "varRefreshCmd": "cat(var_dic_list()) "
    }
   },
   "types_to_exclude": [
    "module",
    "function",
    "builtin_function_or_method",
    "instance",
    "_Feature"
   ],
   "window_display": false
  }
 },
 "nbformat": 4,
 "nbformat_minor": 1
}
