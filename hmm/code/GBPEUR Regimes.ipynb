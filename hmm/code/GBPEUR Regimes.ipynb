{
 "cells": [
  {
   "cell_type": "markdown",
   "metadata": {
    "id": "eBHICgGLYOs_"
   },
   "source": [
    "# Packages"
   ]
  },
  {
   "cell_type": "code",
   "execution_count": 8,
   "metadata": {
    "executionInfo": {
     "elapsed": 804,
     "status": "ok",
     "timestamp": 1608045729860,
     "user": {
      "displayName": "Thomas Nelen",
      "photoUrl": "",
      "userId": "09198946240301374422"
     },
     "user_tz": -60
    },
    "id": "XIwsVa_zYgbL"
   },
   "outputs": [
    {
     "name": "stdout",
     "output_type": "stream",
     "text": [
      "Requirement already satisfied: Cython in /Users/jandespiegeleer/.pyenv/versions/3.6.10/envs/seminar_new/lib/python3.6/site-packages (0.29.21)\n",
      "\u001b[33mWARNING: You are using pip version 20.3.1; however, version 20.3.3 is available.\n",
      "You should consider upgrading via the '/Users/jandespiegeleer/.pyenv/versions/3.6.10/envs/seminar_new/bin/python3.6 -m pip install --upgrade pip' command.\u001b[0m\n",
      "Collecting pomegranate\n",
      "  Using cached pomegranate-0.13.5.tar.gz (4.5 MB)\n",
      "Requirement already satisfied: numpy>=1.8.0 in /Users/jandespiegeleer/.pyenv/versions/3.6.10/envs/seminar_new/lib/python3.6/site-packages (from pomegranate) (1.19.0)\n",
      "Requirement already satisfied: joblib>=0.9.0b4 in /Users/jandespiegeleer/.pyenv/versions/3.6.10/envs/seminar_new/lib/python3.6/site-packages (from pomegranate) (0.16.0)\n",
      "Requirement already satisfied: networkx>=2.0 in /Users/jandespiegeleer/.pyenv/versions/3.6.10/envs/seminar_new/lib/python3.6/site-packages (from pomegranate) (2.4)\n",
      "Requirement already satisfied: scipy>=0.17.0 in /Users/jandespiegeleer/.pyenv/versions/3.6.10/envs/seminar_new/lib/python3.6/site-packages (from pomegranate) (1.5.1)\n",
      "Requirement already satisfied: pyyaml in /Users/jandespiegeleer/.pyenv/versions/3.6.10/envs/seminar_new/lib/python3.6/site-packages (from pomegranate) (5.3.1)\n",
      "Requirement already satisfied: decorator>=4.3.0 in /Users/jandespiegeleer/.pyenv/versions/3.6.10/envs/seminar_new/lib/python3.6/site-packages (from networkx>=2.0->pomegranate) (4.4.2)\n",
      "Requirement already satisfied: numpy>=1.8.0 in /Users/jandespiegeleer/.pyenv/versions/3.6.10/envs/seminar_new/lib/python3.6/site-packages (from pomegranate) (1.19.0)\n",
      "Building wheels for collected packages: pomegranate\n",
      "  Building wheel for pomegranate (setup.py) ... \u001b[?25ldone\n",
      "\u001b[?25h  Created wheel for pomegranate: filename=pomegranate-0.13.5-cp36-cp36m-macosx_10_15_x86_64.whl size=7461125 sha256=4e7fa7b734c52fdc777851cf2912265433454815f22784499dae5117e2e3b962\n",
      "  Stored in directory: /Users/jandespiegeleer/Library/Caches/pip/wheels/f8/44/d5/ef435c8691dccf338636f139732bc2a1694a51d745e8179fe0\n",
      "Successfully built pomegranate\n",
      "Installing collected packages: pomegranate\n",
      "Successfully installed pomegranate-0.13.5\n",
      "\u001b[33mWARNING: You are using pip version 20.3.1; however, version 20.3.3 is available.\n",
      "You should consider upgrading via the '/Users/jandespiegeleer/.pyenv/versions/3.6.10/envs/seminar_new/bin/python3.6 -m pip install --upgrade pip' command.\u001b[0m\n"
     ]
    }
   ],
   "source": [
    "import importlib\n",
    " \n",
    "if importlib.util.find_spec('fsspec') is None:\n",
    "  !pip install fsspec\n",
    "if importlib.util.find_spec('s3fs') is None:\n",
    "  !pip install s3fs\n",
    "if importlib.util.find_spec('pomegranate') is None:\n",
    "    !pip install Cython\n",
    "    !pip install pomegranate "
   ]
  },
  {
   "cell_type": "code",
   "execution_count": 9,
   "metadata": {
    "executionInfo": {
     "elapsed": 1479,
     "status": "ok",
     "timestamp": 1608045730541,
     "user": {
      "displayName": "Thomas Nelen",
      "photoUrl": "",
      "userId": "09198946240301374422"
     },
     "user_tz": -60
    },
    "id": "auzA5VwPYOtA"
   },
   "outputs": [],
   "source": [
    "import warnings\n",
    "import numpy as np\n",
    "import pandas as pd\n",
    "import matplotlib.pyplot as plt\n",
    "import seaborn as sns\n",
    "sns.set()\n",
    "%matplotlib inline\n",
    "# add a warning suppressing\n",
    "warnings.filterwarnings(\"ignore\")"
   ]
  },
  {
   "cell_type": "markdown",
   "metadata": {
    "id": "BMOZ_FE2YOtB"
   },
   "source": [
    "# Data EUR-GBP Exchange Rate last five years:"
   ]
  },
  {
   "cell_type": "code",
   "execution_count": 10,
   "metadata": {
    "colab": {
     "base_uri": "https://localhost:8080/",
     "height": 235
    },
    "executionInfo": {
     "elapsed": 2164,
     "status": "ok",
     "timestamp": 1608045731230,
     "user": {
      "displayName": "Thomas Nelen",
      "photoUrl": "",
      "userId": "09198946240301374422"
     },
     "user_tz": -60
    },
    "id": "6RTuVn8eYOtB",
    "outputId": "553c2b39-269a-482f-ee99-b24e7ff7e9a2"
   },
   "outputs": [
    {
     "data": {
      "text/html": [
       "<div>\n",
       "<style scoped>\n",
       "    .dataframe tbody tr th:only-of-type {\n",
       "        vertical-align: middle;\n",
       "    }\n",
       "\n",
       "    .dataframe tbody tr th {\n",
       "        vertical-align: top;\n",
       "    }\n",
       "\n",
       "    .dataframe thead th {\n",
       "        text-align: right;\n",
       "    }\n",
       "</style>\n",
       "<table border=\"1\" class=\"dataframe\">\n",
       "  <thead>\n",
       "    <tr style=\"text-align: right;\">\n",
       "      <th></th>\n",
       "      <th>EURGBP</th>\n",
       "    </tr>\n",
       "    <tr>\n",
       "      <th>date</th>\n",
       "      <th></th>\n",
       "    </tr>\n",
       "  </thead>\n",
       "  <tbody>\n",
       "    <tr>\n",
       "      <th>2007-10-23</th>\n",
       "      <td>0.69575</td>\n",
       "    </tr>\n",
       "    <tr>\n",
       "      <th>2007-10-24</th>\n",
       "      <td>0.69550</td>\n",
       "    </tr>\n",
       "    <tr>\n",
       "      <th>2007-10-25</th>\n",
       "      <td>0.69765</td>\n",
       "    </tr>\n",
       "    <tr>\n",
       "      <th>2007-10-26</th>\n",
       "      <td>0.70100</td>\n",
       "    </tr>\n",
       "    <tr>\n",
       "      <th>2007-10-29</th>\n",
       "      <td>0.69895</td>\n",
       "    </tr>\n",
       "  </tbody>\n",
       "</table>\n",
       "</div>"
      ],
      "text/plain": [
       "             EURGBP\n",
       "date               \n",
       "2007-10-23  0.69575\n",
       "2007-10-24  0.69550\n",
       "2007-10-25  0.69765\n",
       "2007-10-26  0.70100\n",
       "2007-10-29  0.69895"
      ]
     },
     "execution_count": 10,
     "metadata": {},
     "output_type": "execute_result"
    }
   ],
   "source": [
    "df = pd.read_excel('s3://lfspf/EURGBP.xlsx',index_col='date')\n",
    "df.head()"
   ]
  },
  {
   "cell_type": "code",
   "execution_count": 11,
   "metadata": {
    "colab": {
     "base_uri": "https://localhost:8080/",
     "height": 489
    },
    "executionInfo": {
     "elapsed": 2697,
     "status": "ok",
     "timestamp": 1608045731769,
     "user": {
      "displayName": "Thomas Nelen",
      "photoUrl": "",
      "userId": "09198946240301374422"
     },
     "user_tz": -60
    },
    "id": "qx6pfFGrYOtC",
    "outputId": "3a5ae608-42ca-43b7-b3c1-97d6387ba352"
   },
   "outputs": [
    {
     "data": {
      "text/plain": [
       "<matplotlib.axes._subplots.AxesSubplot at 0x10bc1db00>"
      ]
     },
     "execution_count": 11,
     "metadata": {},
     "output_type": "execute_result"
    },
    {
     "data": {
      "image/png": "[encoded data removed]",
      "text/plain": [
       "<Figure size 1080x576 with 1 Axes>"
      ]
     },
     "metadata": {
      "needs_background": "light"
     },
     "output_type": "display_data"
    }
   ],
   "source": [
    "df.plot(figsize=(15,8))"
   ]
  },
  {
   "cell_type": "markdown",
   "metadata": {
    "id": "2atEcwQzYOtC"
   },
   "source": [
    "# Returns of time series"
   ]
  },
  {
   "cell_type": "code",
   "execution_count": 12,
   "metadata": {
    "executionInfo": {
     "elapsed": 2693,
     "status": "ok",
     "timestamp": 1608045731770,
     "user": {
      "displayName": "Thomas Nelen",
      "photoUrl": "",
      "userId": "09198946240301374422"
     },
     "user_tz": -60
    },
    "id": "kxFQp35rYOtD"
   },
   "outputs": [],
   "source": [
    "df['Ret']= df['EURGBP'].pct_change(periods=1)\n",
    "df.dropna(how='any',inplace=True)\n",
    "X = df['Ret'].values.reshape(-1,1)"
   ]
  },
  {
   "cell_type": "code",
   "execution_count": 13,
   "metadata": {
    "executionInfo": {
     "elapsed": 2690,
     "status": "ok",
     "timestamp": 1608045731771,
     "user": {
      "displayName": "Thomas Nelen",
      "photoUrl": "",
      "userId": "09198946240301374422"
     },
     "user_tz": -60
    },
    "id": "mN0QvTgJYOtD"
   },
   "outputs": [],
   "source": [
    "from pomegranate import hmm , NormalDistribution , State"
   ]
  },
  {
   "cell_type": "markdown",
   "metadata": {
    "id": "kpTsTU-pYOtD"
   },
   "source": [
    "<b>hmm.HiddenMarkovModel.from_samples</b>\n",
    "This method will learn both the transition matrix, emission distributions, and start probabilities for each state. This will only return a dense graph without any silent states or explicit transitions to an end state. Currently all components must be defined as the same distribution, but soon this restriction will be removed.\n",
    "\n",
    "If learning a multinomial HMM over discrete characters, the initial emisison probabilities are initialized randomly. If learning a continuous valued HMM, such as a Gaussian HMM, then kmeans clustering is used first to identify initial clusters.\n",
    "\n",
    "Regardless of the type of model, the transition matrix and start probabilities are initialized uniformly. Then the specified learning algorithm (Baum-Welch recommended) is used to refine the parameters of the model."
   ]
  },
  {
   "cell_type": "code",
   "execution_count": 14,
   "metadata": {
    "executionInfo": {
     "elapsed": 4338,
     "status": "ok",
     "timestamp": 1608045733422,
     "user": {
      "displayName": "Thomas Nelen",
      "photoUrl": "",
      "userId": "09198946240301374422"
     },
     "user_tz": -60
    },
    "id": "AHEX6H06YOtD"
   },
   "outputs": [],
   "source": [
    "# This method will learn both the transition matrix, emission distributions, \n",
    "# and start probabilities for each state. \n",
    "model = hmm.HiddenMarkovModel.from_samples(NormalDistribution, \n",
    "                                           n_components=2, \n",
    "                                           X=X,\n",
    "                                           algorithm='viterbi')\n"
   ]
  },
  {
   "cell_type": "markdown",
   "metadata": {
    "id": "vgAaK-UVYOtE"
   },
   "source": [
    "# Transition Matrix"
   ]
  },
  {
   "cell_type": "code",
   "execution_count": 15,
   "metadata": {
    "colab": {
     "base_uri": "https://localhost:8080/",
     "height": 128
    },
    "executionInfo": {
     "elapsed": 4335,
     "status": "ok",
     "timestamp": 1608045733423,
     "user": {
      "displayName": "Thomas Nelen",
      "photoUrl": "",
      "userId": "09198946240301374422"
     },
     "user_tz": -60
    },
    "id": "AN-_DpdCYOtE",
    "outputId": "af6f4985-6834-4cc7-b142-0c46b0572902"
   },
   "outputs": [
    {
     "name": "stdout",
     "output_type": "stream",
     "text": [
      "Transition Matrix\n"
     ]
    },
    {
     "data": {
      "text/html": [
       "<div>\n",
       "<style scoped>\n",
       "    .dataframe tbody tr th:only-of-type {\n",
       "        vertical-align: middle;\n",
       "    }\n",
       "\n",
       "    .dataframe tbody tr th {\n",
       "        vertical-align: top;\n",
       "    }\n",
       "\n",
       "    .dataframe thead th {\n",
       "        text-align: right;\n",
       "    }\n",
       "</style>\n",
       "<table border=\"1\" class=\"dataframe\">\n",
       "  <thead>\n",
       "    <tr style=\"text-align: right;\">\n",
       "      <th></th>\n",
       "      <th>0</th>\n",
       "      <th>1</th>\n",
       "    </tr>\n",
       "  </thead>\n",
       "  <tbody>\n",
       "    <tr>\n",
       "      <th>0</th>\n",
       "      <td>0.936501</td>\n",
       "      <td>0.063506</td>\n",
       "    </tr>\n",
       "    <tr>\n",
       "      <th>1</th>\n",
       "      <td>0.897059</td>\n",
       "      <td>0.102845</td>\n",
       "    </tr>\n",
       "  </tbody>\n",
       "</table>\n",
       "</div>"
      ],
      "text/plain": [
       "          0         1\n",
       "0  0.936501  0.063506\n",
       "1  0.897059  0.102845"
      ]
     },
     "execution_count": 15,
     "metadata": {},
     "output_type": "execute_result"
    }
   ],
   "source": [
    "transition_matrix = model.forward_backward(X)[0][0:2,0:2]\n",
    "v = np.sum(transition_matrix,0).T\n",
    "transition_matrix = transition_matrix/v.reshape(-1,1)\n",
    "print('Transition Matrix')\n",
    "pd.DataFrame(transition_matrix)"
   ]
  },
  {
   "cell_type": "markdown",
   "metadata": {
    "id": "aShLmN6vYOtE"
   },
   "source": [
    "# Properties of the Regimes (emission)"
   ]
  },
  {
   "cell_type": "code",
   "execution_count": 16,
   "metadata": {
    "executionInfo": {
     "elapsed": 4331,
     "status": "ok",
     "timestamp": 1608045733424,
     "user": {
      "displayName": "Thomas Nelen",
      "photoUrl": "",
      "userId": "09198946240301374422"
     },
     "user_tz": -60
    },
    "id": "JZ7JqSNTYOtE"
   },
   "outputs": [],
   "source": [
    "Z = model.predict(X)\n",
    "df_result = pd.DataFrame(Z)\n",
    "df_result.columns = ['state']\n",
    "df_result.index = df.index\n",
    "\n",
    "idx_1 = df_result['state'] == 1\n",
    "idx_0 = df_result['state'] == 0"
   ]
  },
  {
   "cell_type": "markdown",
   "metadata": {
    "id": "fy7vT35RYOtE"
   },
   "source": [
    "First Regime"
   ]
  },
  {
   "cell_type": "code",
   "execution_count": 17,
   "metadata": {
    "colab": {
     "base_uri": "https://localhost:8080/"
    },
    "executionInfo": {
     "elapsed": 4328,
     "status": "ok",
     "timestamp": 1608045733424,
     "user": {
      "displayName": "Thomas Nelen",
      "photoUrl": "",
      "userId": "09198946240301374422"
     },
     "user_tz": -60
    },
    "id": "juN6XPt1YOtE",
    "outputId": "b9c514d4-ed57-4a90-862b-aa571a822040"
   },
   "outputs": [
    {
     "name": "stdout",
     "output_type": "stream",
     "text": [
      "Regime 1: Mean: -0.04 % Std: 0.496 %\n"
     ]
    }
   ],
   "source": [
    "std = np.float(df.loc[idx_0,['Ret']].std())\n",
    "mean = np.float(df.loc[idx_0,['Ret']].mean())\n",
    "print('Regime 1:','Mean:',np.round(100*mean,3),'% Std:',np.round(100*std,3),'%')\n"
   ]
  },
  {
   "cell_type": "markdown",
   "metadata": {
    "id": "-31698ZcYOtF"
   },
   "source": [
    "Second Regime"
   ]
  },
  {
   "cell_type": "code",
   "execution_count": 18,
   "metadata": {
    "colab": {
     "base_uri": "https://localhost:8080/"
    },
    "executionInfo": {
     "elapsed": 4324,
     "status": "ok",
     "timestamp": 1608045733424,
     "user": {
      "displayName": "Thomas Nelen",
      "photoUrl": "",
      "userId": "09198946240301374422"
     },
     "user_tz": -60
    },
    "id": "lzhJrQdAYOtF",
    "outputId": "aaf6e923-2f09-4ed4-bcec-c2dea95fc0d3"
   },
   "outputs": [
    {
     "name": "stdout",
     "output_type": "stream",
     "text": [
      "Regime 2: Mean: 1.547 % Std: 0.736 %\n"
     ]
    }
   ],
   "source": [
    "std = np.float(df.loc[idx_1,['Ret']].std())\n",
    "mean = np.float(df.loc[idx_1,['Ret']].mean())\n",
    "print('Regime 2:','Mean:',np.round(100*mean,3),'% Std:',np.round(100*std,3),'%')\n"
   ]
  }
 ],
 "metadata": {
  "colab": {
   "collapsed_sections": [],
   "name": "GBPEUR Regimes.ipynb",
   "provenance": []
  },
  "kernelspec": {
   "display_name": "Python 3",
   "language": "python",
   "name": "python3"
  },
  "language_info": {
   "codemirror_mode": {
    "name": "ipython",
    "version": 3
   },
   "file_extension": ".py",
   "mimetype": "text/x-python",
   "name": "python",
   "nbconvert_exporter": "python",
   "pygments_lexer": "ipython3",
   "version": "3.6.10"
  },
  "toc": {
   "base_numbering": 1,
   "nav_menu": {},
   "number_sections": true,
   "sideBar": true,
   "skip_h1_title": false,
   "title_cell": "Table of Contents",
   "title_sidebar": "Contents",
   "toc_cell": false,
   "toc_position": {},
   "toc_section_display": true,
   "toc_window_display": false
  },
  "varInspector": {
   "cols": {
    "lenName": 16,
    "lenType": 16,
    "lenVar": 40
   },
   "kernels_config": {
    "python": {
     "delete_cmd_postfix": "",
     "delete_cmd_prefix": "del ",
     "library": "var_list.py",
     "varRefreshCmd": "print(var_dic_list())"
    },
    "r": {
     "delete_cmd_postfix": ") ",
     "delete_cmd_prefix": "rm(",
     "library": "var_list.r",
     "varRefreshCmd": "cat(var_dic_list()) "
    }
   },
   "types_to_exclude": [
    "module",
    "function",
    "builtin_function_or_method",
    "instance",
    "_Feature"
   ],
   "window_display": false
  }
 },
 "nbformat": 4,
 "nbformat_minor": 1
}
