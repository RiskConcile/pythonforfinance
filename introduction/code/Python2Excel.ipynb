{
 "cells": [
  {
   "cell_type": "markdown",
   "metadata": {
    "id": "HPOOKyLQ5n3W"
   },
   "source": [
    "<h1>Python 2 Excel</h1>\n",
    "<br>\n",
    "This notebook illustrates some of the possiblities to export Python to Excel using the <b>openpyxl</b> package."
   ]
  },
  {
   "cell_type": "code",
   "execution_count": 1,
   "metadata": {
    "id": "n4HvmN5T5n3m"
   },
   "outputs": [],
   "source": [
    "import numpy as np\n",
    "import os\n",
    "import pandas as pd\n",
    "import datetime\n",
    "import matplotlib.pyplot as plt\n",
    "import seaborn as sns\n",
    "%matplotlib inline"
   ]
  },
  {
   "cell_type": "markdown",
   "metadata": {
    "id": "DNm7HIcF5n3m"
   },
   "source": [
    "From the <b>openpyxl</b> module, the following submodules are downloaded:"
   ]
  },
  {
   "cell_type": "code",
   "execution_count": 2,
   "metadata": {
    "id": "4B6hnPlv5n3n"
   },
   "outputs": [],
   "source": [
    "#simple workbook, worksheet operations\n",
    "from openpyxl import Workbook , load_workbook"
   ]
  },
  {
   "cell_type": "code",
   "execution_count": 3,
   "metadata": {
    "id": "y-Zt_-Bl5n3n"
   },
   "outputs": [],
   "source": [
    "#to save impages into file\n",
    "from openpyxl.drawing.image import Image"
   ]
  },
  {
   "cell_type": "code",
   "execution_count": 4,
   "metadata": {
    "id": "usdbfbrl5n3t"
   },
   "outputs": [],
   "source": [
    "# to write pandas into Excel\n",
    "from openpyxl.utils.dataframe import dataframe_to_rows"
   ]
  },
  {
   "cell_type": "code",
   "execution_count": 5,
   "metadata": {
    "id": "hR0Pn9Zk5n3w"
   },
   "outputs": [],
   "source": [
    "# to ad comments to your excel\n",
    "from openpyxl.comments import Comment"
   ]
  },
  {
   "cell_type": "code",
   "execution_count": 6,
   "metadata": {
    "id": "S4w7P4VH5n3w"
   },
   "outputs": [],
   "source": [
    "# to add colors and font style\n",
    "from openpyxl.styles import Font, Color, colors , PatternFill"
   ]
  },
  {
   "cell_type": "code",
   "execution_count": 7,
   "metadata": {
    "id": "DtFcJk9S5n3x"
   },
   "outputs": [],
   "source": [
    "#to add named styles and alignment\n",
    "from openpyxl.styles import NamedStyle , Alignment"
   ]
  },
  {
   "cell_type": "code",
   "execution_count": 8,
   "metadata": {
    "id": "6lewbtGL5n3x"
   },
   "outputs": [],
   "source": [
    "#for conditional formatting\n",
    "from openpyxl.formatting.rule import ColorScaleRule, CellIsRule, FormulaRule, Rule\n",
    "from openpyxl.styles.differential import DifferentialStyle"
   ]
  },
  {
   "cell_type": "markdown",
   "metadata": {
    "id": "NndgMAo85n4B"
   },
   "source": [
    "<h3>Creating sheets & notebooks </h3><br>\n",
    "The workbook does not need to be created in the filesystem. It is just an object in memory"
   ]
  },
  {
   "cell_type": "code",
   "execution_count": 9,
   "metadata": {
    "id": "x37OYT035n4H"
   },
   "outputs": [],
   "source": [
    "# Create the workbook\n",
    "wb = Workbook()\n",
    "# Get the active worksheet of the workbook\n",
    "ws = wb.active\n"
   ]
  },
  {
   "cell_type": "code",
   "execution_count": 10,
   "metadata": {
    "id": "a327oX_E5n4H"
   },
   "outputs": [],
   "source": [
    "# create a sheet with a particular name\n",
    "ws1 = wb.create_sheet(\"KBC\")\n",
    "# It is position the new sheet at a particular place (for example at the beginning).\n",
    "# This corresponds to index = 0\n",
    "ws2 = wb.create_sheet(\"Calculations\",index=0)\n"
   ]
  },
  {
   "cell_type": "code",
   "execution_count": 11,
   "metadata": {
    "colab": {
     "base_uri": "https://localhost:8080/"
    },
    "executionInfo": {
     "elapsed": 2535,
     "status": "ok",
     "timestamp": 1607691849535,
     "user": {
      "displayName": "Thomas Nelen",
      "photoUrl": "",
      "userId": "09198946240301374422"
     },
     "user_tz": -60
    },
    "id": "RAK91wkk5n4I",
    "outputId": "a40747b1-50a5-4297-a38f-2c8cddcbabb9"
   },
   "outputs": [
    {
     "name": "stdout",
     "output_type": "stream",
     "text": [
      "KBC\n"
     ]
    }
   ],
   "source": [
    "# The Sheets are stored as dictionaries in the computer, it is very easy to acces them\"\n",
    "ws = wb[\"KBC\"]\n",
    "print(ws.title)"
   ]
  },
  {
   "cell_type": "markdown",
   "metadata": {
    "id": "xmx7KcSP5n4I"
   },
   "source": [
    "<h3>Adding data to the sheet </h3><br>\n",
    "The lowest element in the hierarchy is a cell:\n",
    "<br>\n",
    "Workbook->Worksheet->Cell\n",
    "<h3>Cells</h3>\n",
    "Reading and writing a particul cell of a worksheet"
   ]
  },
  {
   "cell_type": "code",
   "execution_count": 12,
   "metadata": {
    "colab": {
     "base_uri": "https://localhost:8080/"
    },
    "executionInfo": {
     "elapsed": 2531,
     "status": "ok",
     "timestamp": 1607691849536,
     "user": {
      "displayName": "Thomas Nelen",
      "photoUrl": "",
      "userId": "09198946240301374422"
     },
     "user_tz": -60
    },
    "id": "JwfbPI5J5n4N",
    "outputId": "779cd9e9-97ea-4d7f-8026-961290d40884"
   },
   "outputs": [
    {
     "name": "stdout",
     "output_type": "stream",
     "text": [
      "3.124\n"
     ]
    }
   ],
   "source": [
    "# Writing Data\n",
    "ws['A4'] = 3.124\n",
    "\n",
    "# Reading data takes place via the attributes of the cell object:\n",
    "c = ws['A4'].value\n",
    "print(c)"
   ]
  },
  {
   "cell_type": "code",
   "execution_count": 13,
   "metadata": {
    "colab": {
     "base_uri": "https://localhost:8080/"
    },
    "executionInfo": {
     "elapsed": 2527,
     "status": "ok",
     "timestamp": 1607691849536,
     "user": {
      "displayName": "Thomas Nelen",
      "photoUrl": "",
      "userId": "09198946240301374422"
     },
     "user_tz": -60
    },
    "id": "WcTHi4S75n4P",
    "outputId": "93d22f91-1d9b-4e24-aef7-3b1e23e5ec13"
   },
   "outputs": [
    {
     "name": "stdout",
     "output_type": "stream",
     "text": [
      "Calibri\n",
      "11.0\n"
     ]
    }
   ],
   "source": [
    "# Other properties\n",
    "print(ws['A4'].font.name)\n",
    "print(ws['A4'].font.sz)"
   ]
  },
  {
   "cell_type": "code",
   "execution_count": 14,
   "metadata": {
    "colab": {
     "base_uri": "https://localhost:8080/"
    },
    "executionInfo": {
     "elapsed": 2522,
     "status": "ok",
     "timestamp": 1607691849536,
     "user": {
      "displayName": "Thomas Nelen",
      "photoUrl": "",
      "userId": "09198946240301374422"
     },
     "user_tz": -60
    },
    "id": "7oiM_iGi5n4Q",
    "outputId": "1b8f9a86-b868-48a9-ee78-58e2089ed8e2"
   },
   "outputs": [
    {
     "name": "stdout",
     "output_type": "stream",
     "text": [
      "123\n"
     ]
    }
   ],
   "source": [
    "# Get access to a cell using RC-method\n",
    "# Setting the cell to a particular value\n",
    "ws.cell(row=2,column=4,value=123)\n",
    "\n",
    "# Reading the content of the cell\n",
    "print(ws.cell(row=2,column=4).value)"
   ]
  },
  {
   "cell_type": "markdown",
   "metadata": {
    "id": "stm3tpbX5n4Q"
   },
   "source": [
    "When a worksheet is created in memory, it contains no cells. A cell object is created when it is first accessed.So when you loop over cells that do not exist, they are actualy going to be created.<br>\n",
    "<p> for i in range(1,101):<br>\n",
    "...        for j in range(1,101):<br>\n",
    "...            ws.cell(row=i, column=j)</p><br>\n",
    "<br>\n",
    "will create a 100 x 100 array on the sheet"
   ]
  },
  {
   "cell_type": "markdown",
   "metadata": {
    "id": "UqYGP6CG5n4Q"
   },
   "source": [
    "<h3>Ranges</h3>\n",
    "Accessing many cells"
   ]
  },
  {
   "cell_type": "code",
   "execution_count": 15,
   "metadata": {
    "id": "5rpl5jwH5n4R"
   },
   "outputs": [],
   "source": [
    "# range A1 to C2\n",
    "cell_range = ws['A1':'C2']\n",
    "\n",
    "# columns C to D\n",
    "ws['C:D']\n",
    "\n",
    "# row 5 to 6\n",
    "ws[5:6];\n"
   ]
  },
  {
   "cell_type": "markdown",
   "metadata": {
    "id": "4OjxJvsZ5n4R"
   },
   "source": [
    "Looping over a range can be done, looping over the cols via the iter_cols method and\n",
    "then one has to loop over each cell in the col object."
   ]
  },
  {
   "cell_type": "code",
   "execution_count": 16,
   "metadata": {
    "id": "KrLcG3xo5n4S"
   },
   "outputs": [],
   "source": [
    "i=0\n",
    "for col in ws.iter_cols(min_row=4,min_col=2, max_col=3, max_row=6):\n",
    "    for cell in col:\n",
    "        cell.value= i\n",
    "        i+=1"
   ]
  },
  {
   "cell_type": "markdown",
   "metadata": {
    "id": "eNAuRiqL5n6g"
   },
   "source": [
    "<h2>Saving to a file</h2>\n",
    "If the file exists, it will be overwritten without warning"
   ]
  },
  {
   "cell_type": "code",
   "execution_count": 17,
   "metadata": {
    "id": "Im-Bq7tn5n6h"
   },
   "outputs": [],
   "source": [
    "filename = 'test.xlsx'\n",
    "wb.save(filename=filename)"
   ]
  },
  {
   "cell_type": "markdown",
   "metadata": {
    "id": "rwFcyotJ5n6h"
   },
   "source": [
    "<h2>Reading the file</h2><br>\n",
    "openpyxl does currently not read all possible items in an Excel file so images and charts will be lost from existing files if they are opened and saved with the same name."
   ]
  },
  {
   "cell_type": "code",
   "execution_count": 18,
   "metadata": {
    "colab": {
     "base_uri": "https://localhost:8080/"
    },
    "executionInfo": {
     "elapsed": 2514,
     "status": "ok",
     "timestamp": 1607691849538,
     "user": {
      "displayName": "Thomas Nelen",
      "photoUrl": "",
      "userId": "09198946240301374422"
     },
     "user_tz": -60
    },
    "id": "7_itQRGD5n6h",
    "outputId": "8b9e884b-7d29-4cc9-cacf-a9a3fa0917b6"
   },
   "outputs": [
    {
     "name": "stdout",
     "output_type": "stream",
     "text": [
      "['Calculations', 'Sheet', 'KBC']\n"
     ]
    },
    {
     "name": "stderr",
     "output_type": "stream",
     "text": [
      "<ipython-input-18-64799103e85d>:3: DeprecationWarning: Call to deprecated function get_sheet_names (Use wb.sheetnames).\n",
      "  print(wb2.get_sheet_names())\n"
     ]
    }
   ],
   "source": [
    "# Reading the sheet names in the book\n",
    "wb2 = load_workbook('test.xlsx')\n",
    "print(wb2.get_sheet_names())"
   ]
  },
  {
   "cell_type": "code",
   "execution_count": 19,
   "metadata": {
    "id": "fV6GclYc5n6h"
   },
   "outputs": [],
   "source": [
    "# check if file exists\n",
    "filename = 'test.xlsx'\n",
    "if os.path.isfile(filename):\n",
    "   wb = load_workbook(filename)\n",
    "else:\n",
    "    wb = Workbook()"
   ]
  },
  {
   "cell_type": "markdown",
   "metadata": {
    "id": "wsCMmScs5n6h"
   },
   "source": [
    "<h3>Number formats</h3>"
   ]
  },
  {
   "cell_type": "code",
   "execution_count": 20,
   "metadata": {
    "id": "oATVsPIW5n6h"
   },
   "outputs": [],
   "source": [
    "ws = wb.active\n",
    "ws['A1'] = datetime.datetime(2010, 7, 21)\n",
    "ws['A1'].number_format='yyyymmdd'\n",
    "ws['A2'] = 13/100\n",
    "ws['A2'].number_format = '0.0%'"
   ]
  },
  {
   "cell_type": "code",
   "execution_count": 21,
   "metadata": {
    "colab": {
     "base_uri": "https://localhost:8080/"
    },
    "executionInfo": {
     "elapsed": 2509,
     "status": "ok",
     "timestamp": 1607691849540,
     "user": {
      "displayName": "Thomas Nelen",
      "photoUrl": "",
      "userId": "09198946240301374422"
     },
     "user_tz": -60
    },
    "id": "eUUwewAT5n6i",
    "outputId": "acbf529a-7eb9-4928-c493-8aad990d3505"
   },
   "outputs": [
    {
     "name": "stdout",
     "output_type": "stream",
     "text": [
      "2010-07-21 00:00:00\n"
     ]
    }
   ],
   "source": [
    "print(ws['A1'].value)"
   ]
  },
  {
   "cell_type": "markdown",
   "metadata": {
    "id": "TJJG2wt05n6i"
   },
   "source": [
    "<h3>Merge / Unmerge cells</h3>"
   ]
  },
  {
   "cell_type": "code",
   "execution_count": 22,
   "metadata": {
    "id": "u5cnLems5n6i"
   },
   "outputs": [],
   "source": [
    "ws.merge_cells('A3:D3')\n",
    "# or equivalently\n",
    "ws.merge_cells(start_row=5,start_column=1,end_row=5,end_column=4)\n",
    "ws.cell(row=5,column=1,value=4)\n",
    "ws.cell(row=5,column=1).alignment = Alignment(horizontal=\"center\")\n",
    "wb.save('test.xlsx')"
   ]
  },
  {
   "cell_type": "markdown",
   "metadata": {
    "id": "QXUsJFQS5n6j"
   },
   "source": [
    "<h3>Adding Image into Spreadsheet</h3>"
   ]
  },
  {
   "cell_type": "code",
   "execution_count": 23,
   "metadata": {
    "colab": {
     "base_uri": "https://localhost:8080/",
     "height": 320
    },
    "executionInfo": {
     "elapsed": 2808,
     "status": "ok",
     "timestamp": 1607691849846,
     "user": {
      "displayName": "Thomas Nelen",
      "photoUrl": "",
      "userId": "09198946240301374422"
     },
     "user_tz": -60
    },
    "id": "Zd6g2JTx5n6j",
    "outputId": "62e16d55-ee5e-44c3-ec0d-43c32af0c00f"
   },
   "outputs": [
    {
     "data": {
      "image/png": "[encoded data removed]",
      "text/plain": [
       "<Figure size 360x360 with 1 Axes>"
      ]
     },
     "metadata": {
      "needs_background": "light"
     },
     "output_type": "display_data"
    }
   ],
   "source": [
    "#create figure\n",
    "fig,ax = plt.subplots(1,1,figsize=(5,5))\n",
    "x = np.arange(0,10,1)\n",
    "y = 2*np.arange(0,10,1)\n",
    "ax.plot(x ,y)\n",
    "\n",
    "# save figure\n",
    "fig.savefig('myfig.png')\n",
    "\n",
    "# Embedding into sheet\n",
    "img = Image('myfig.png')\n",
    "ws_fig = wb.create_sheet('Figure')\n",
    "ws_fig.add_image(img, 'A1')\n",
    "wb.save(filename='test.xlsx')"
   ]
  },
  {
   "cell_type": "markdown",
   "metadata": {
    "id": "Uj738uH75n6j"
   },
   "source": [
    "<h3>Working with Pandas Dataframes</h3>\n",
    "<br>\n",
    " Pandas has a build in function to export to Excel : <b>ExcelWriter</b>. With openpyxl, there are alternative approaches to export data to Excel:"
   ]
  },
  {
   "cell_type": "code",
   "execution_count": 24,
   "metadata": {
    "id": "9t9OF4RG5n6k"
   },
   "outputs": [],
   "source": [
    "x = np.random.randn(5,10)\n",
    "df = pd.DataFrame(x)\n",
    "ws = wb.create_sheet('Pandas')\n",
    "for r in dataframe_to_rows(df, index=True, header=True):\n",
    "    ws.append(r)\n",
    "\n",
    "#These lines gives a pandas \"look-and-feel\"\n",
    "for cell in ws['A'] + ws[1]:\n",
    "    cell.style = 'Pandas'\n",
    "wb.save('test.xlsx')"
   ]
  },
  {
   "cell_type": "markdown",
   "metadata": {
    "id": "QIaqAv2F5n6k"
   },
   "source": [
    "<h3>Formatting the cells with colors and fonttypes</h3>"
   ]
  },
  {
   "cell_type": "code",
   "execution_count": 25,
   "metadata": {
    "id": "gFEaFD-y5n6k"
   },
   "outputs": [
    {
     "ename": "AttributeError",
     "evalue": "module 'openpyxl.styles.colors' has no attribute 'RED'",
     "output_type": "error",
     "traceback": [
      "\u001b[0;31m---------------------------------------------------------------------------\u001b[0m",
      "\u001b[0;31mAttributeError\u001b[0m                            Traceback (most recent call last)",
      "\u001b[0;32m<ipython-input-25-dfacee96c8ab>\u001b[0m in \u001b[0;36m<module>\u001b[0;34m\u001b[0m\n\u001b[1;32m      1\u001b[0m \u001b[0;31m# create diffenrent fonts\u001b[0m\u001b[0;34m\u001b[0m\u001b[0;34m\u001b[0m\u001b[0;34m\u001b[0m\u001b[0m\n\u001b[0;32m----> 2\u001b[0;31m \u001b[0mft\u001b[0m \u001b[0;34m=\u001b[0m \u001b[0mFont\u001b[0m\u001b[0;34m(\u001b[0m\u001b[0mcolor\u001b[0m\u001b[0;34m=\u001b[0m\u001b[0mcolors\u001b[0m\u001b[0;34m.\u001b[0m\u001b[0mRED\u001b[0m\u001b[0;34m)\u001b[0m\u001b[0;34m\u001b[0m\u001b[0;34m\u001b[0m\u001b[0m\n\u001b[0m\u001b[1;32m      3\u001b[0m \u001b[0mft_italic\u001b[0m \u001b[0;34m=\u001b[0m \u001b[0mFont\u001b[0m\u001b[0;34m(\u001b[0m\u001b[0mcolor\u001b[0m\u001b[0;34m=\u001b[0m\u001b[0mcolors\u001b[0m\u001b[0;34m.\u001b[0m\u001b[0mRED\u001b[0m\u001b[0;34m,\u001b[0m\u001b[0mitalic\u001b[0m\u001b[0;34m=\u001b[0m\u001b[0;32mTrue\u001b[0m\u001b[0;34m)\u001b[0m\u001b[0;34m\u001b[0m\u001b[0;34m\u001b[0m\u001b[0m\n\u001b[1;32m      4\u001b[0m \u001b[0mft_bold\u001b[0m \u001b[0;34m=\u001b[0m \u001b[0mFont\u001b[0m\u001b[0;34m(\u001b[0m\u001b[0mname\u001b[0m\u001b[0;34m=\u001b[0m\u001b[0;34m'Arial'\u001b[0m\u001b[0;34m,\u001b[0m\u001b[0mcolor\u001b[0m\u001b[0;34m=\u001b[0m\u001b[0mcolors\u001b[0m\u001b[0;34m.\u001b[0m\u001b[0mBLUE\u001b[0m\u001b[0;34m,\u001b[0m\u001b[0mbold\u001b[0m\u001b[0;34m=\u001b[0m\u001b[0;32mTrue\u001b[0m\u001b[0;34m)\u001b[0m\u001b[0;34m\u001b[0m\u001b[0;34m\u001b[0m\u001b[0m\n",
      "\u001b[0;31mAttributeError\u001b[0m: module 'openpyxl.styles.colors' has no attribute 'RED'"
     ]
    }
   ],
   "source": [
    "# create diffenrent fonts\n",
    "ft = Font(color=colors.RED)\n",
    "ft_italic = Font(color=colors.RED,italic=True)\n",
    "ft_bold = Font(name='Arial',color=colors.BLUE,bold=True)"
   ]
  },
  {
   "cell_type": "code",
   "execution_count": null,
   "metadata": {
    "id": "wj8Kw-8d5n6k"
   },
   "outputs": [],
   "source": [
    "ws['A1'].font = ft\n",
    "ws['A2'].font = ft_italic\n",
    "ws['A3'].font = ft_bold\n",
    "wb.save('test.xlsx')"
   ]
  },
  {
   "cell_type": "markdown",
   "metadata": {
    "id": "qtSIc5OF5n6k"
   },
   "source": [
    "<h2>Named Styles</h2>"
   ]
  },
  {
   "cell_type": "code",
   "execution_count": null,
   "metadata": {
    "id": "RSpkToML5n6l"
   },
   "outputs": [],
   "source": [
    "highlight = NamedStyle(name=\"highlight\")\n",
    "highlight.font = Font(bold=True, size=20,color=colors.BLUE)\n",
    "wb.add_named_style(highlight)"
   ]
  },
  {
   "cell_type": "code",
   "execution_count": null,
   "metadata": {
    "id": "KCHAxx7m5n6l"
   },
   "outputs": [],
   "source": [
    "ws['A1'].style = highlight\n",
    "ws['B2'].style = 'Calculation'\n",
    "wb.save('test.xlsx')"
   ]
  },
  {
   "cell_type": "markdown",
   "metadata": {
    "id": "2WqHFkVg5n6l"
   },
   "source": [
    "There are some pre-defined styles"
   ]
  },
  {
   "cell_type": "code",
   "execution_count": null,
   "metadata": {
    "id": "keQHrMVW5n6l"
   },
   "outputs": [],
   "source": [
    "try:\n",
    "    ws = wb['Info']\n",
    "except:\n",
    "    ws = wb.create_sheet('Info')"
   ]
  },
  {
   "cell_type": "code",
   "execution_count": null,
   "metadata": {
    "id": "yakB0Ftk5n6l"
   },
   "outputs": [],
   "source": [
    "# Informative\n",
    "ws['A1']='Calculation'\n",
    "ws['A1'].style = 'Calculation'\n",
    "ws['A2']='Total'\n",
    "ws['A2'].style='Total'\n",
    "ws['A3']='Note'\n",
    "ws['A3'].style='Note'\n",
    "ws['A4']='Warning Text'\n",
    "ws['A4'].style='Warning Text'\n",
    "ws['A5']='Explanatory Text'\n",
    "ws['A5'].style='Explanatory Text'\n",
    "\n",
    "# TextStyles\n",
    "ws['A6']='Title'\n",
    "ws['A6'].style='Title'\n",
    "ws['A7']='Headline 1'\n",
    "ws['A7'].style='Headline 1'\n",
    "ws['A7']='Headline 2'\n",
    "ws['A8'].style='Headline 3'\n",
    "ws['A8']='Headline 3'\n",
    "ws['A9']='Headline 4'\n",
    "ws['A9'].style='Headline 4'\n",
    "ws['A10']='Hyperlink'\n",
    "ws['A10'].style='Hyperlink'\n",
    "ws['A11']='Followed Hyperlink'\n",
    "ws['A11'].style='Followed Hyperlink'\n",
    "ws['A12']='Linked Cell'\n",
    "ws['A12'].style='Linked Cell'\n",
    "\n",
    "#Comparisons\n",
    "ws['A13']='Input'\n",
    "ws['A13'].style='Input'\n",
    "ws['A14']='Output'\n",
    "ws['A14'].style='Output'\n",
    "ws['A15']='Check Cell'\n",
    "ws['A15'].style='Check Cell'\n",
    "ws['A16']='Good'\n",
    "ws['A16'].style='Good'\n",
    "ws['A17']='Bad'\n",
    "ws['A17'].style='Bad'\n",
    "ws['A18']='Neutral'\n",
    "ws['A18'].style='Neutral'\n",
    "\n",
    "#Accents\n",
    "\n",
    "ws['A19']='20 % - Accent1'\n",
    "ws['A19'].style='20 % - Accent1'\n",
    "ws['A20']='40 % - Accent1'\n",
    "ws['A20'].style='40 % - Accent1'\n",
    "ws['A21']='60 % - Accent1'\n",
    "ws['A21'].style='60 % - Accent1'\n",
    "ws['A22']='Accent2'\n",
    "ws['A22'].style='Accent2'\n",
    "ws['A23']='20 % - Accent2'\n",
    "ws['A23'].style='20 % - Accent2'\n",
    "ws['A24']='40 % - Accent2'\n",
    "ws['A24'].style='40 % - Accent2'\n",
    "ws['A25']='60 % - Accent2'\n",
    "ws['A25'].style='60 % - Accent2'\n",
    "ws['A26']='Accent3'\n",
    "ws['A26'].style='Accent3'\n",
    "ws['A27']='20 % - Accent3'\n",
    "ws['A27'].style='20 % - Accent3'\n",
    "ws['A28']='40 % - Accent3'\n",
    "ws['A28'].style='40 % - Accent3'\n",
    "ws['A29']='60 % - Accent3'\n",
    "ws['A29'].style='60 % - Accent3'\n",
    "ws['A30']='Accent4'\n",
    "ws['A30'].style='Accent4'\n",
    "ws['A31']='20 % - Accent4'\n",
    "ws['A31'].style='20 % - Accent4'\n",
    "ws['A32']='40 % - Accent4'\n",
    "ws['A32'].style='40 % - Accent4'\n",
    "ws['A33']='60 % - Accent4'\n",
    "ws['A33'].style='60 % - Accent4'\n",
    "ws['A34']='Accent5'\n",
    "ws['A34'].style='Accent5'\n",
    "ws['A35']='20 % - Accent5'\n",
    "ws['A35'].style='20 % - Accent5'\n",
    "ws['A36']='40 % - Accent5'\n",
    "ws['A36'].style='40 % - Accent5'\n",
    "ws['A37']='60 % - Accent5'\n",
    "ws['A37'].style='60 % - Accent5'\n",
    "ws['A38']='Accent6'\n",
    "ws['A38'].style='Accent6'\n",
    "ws['A39']='20 % - Accent6'\n",
    "ws['A39'].style='20 % - Accent6'\n",
    "ws['A40']='40 % - Accent6'\n",
    "ws['A40'].style='40 % - Accent6'\n",
    "ws['A41']='60 % - Accent6'\n",
    "ws['A41'].style='60 % - Accent6'\n",
    "ws['A42']='Pandas'\n",
    "ws['A42'].style='Pandas'"
   ]
  },
  {
   "cell_type": "code",
   "execution_count": null,
   "metadata": {
    "id": "bzvbdSu-5n6v"
   },
   "outputs": [],
   "source": [
    "wb.save('test.xlsx')"
   ]
  },
  {
   "cell_type": "markdown",
   "metadata": {
    "id": "MnqarGd05n60"
   },
   "source": [
    "<h3>Conditional Formatting </h3>\n",
    "<br>\n",
    "Create random numbers in the document on cell A1:A10 and fill the cell when the value is less than 0.5"
   ]
  },
  {
   "cell_type": "code",
   "execution_count": null,
   "metadata": {
    "id": "jY7SQK_L5n61"
   },
   "outputs": [],
   "source": [
    "try:\n",
    "    ws = wb['format']\n",
    "except:\n",
    "    ws = wb.create_sheet('format')\n",
    "\n",
    "for col in ws.iter_cols(min_row=1,min_col=1, max_col=1, max_row=11):\n",
    "    for cell in col:\n",
    "        cell.value= np.random.rand(1)[0]\n",
    "        \n",
    "\n",
    "redFill = PatternFill(start_color='EE1111',end_color='EE1111',fill_type='solid')\n",
    "ws.conditional_formatting.add('A2:A10',CellIsRule(operator='lessThan', formula=['0.5'], stopIfTrue=True, fill=redFill))\n",
    "\n",
    "wb.save('test_KBC.xlsx')"
   ]
  },
  {
   "cell_type": "code",
   "execution_count": null,
   "metadata": {
    "id": "H6SO2DsS5n61"
   },
   "outputs": [],
   "source": []
  }
 ],
 "metadata": {
  "anaconda-cloud": {},
  "colab": {
   "collapsed_sections": [],
   "name": "Python2Excel.ipynb",
   "provenance": []
  },
  "kernelspec": {
   "display_name": "Python 3",
   "language": "python",
   "name": "python3"
  },
  "language_info": {
   "codemirror_mode": {
    "name": "ipython",
    "version": 3
   },
   "file_extension": ".py",
   "mimetype": "text/x-python",
   "name": "python",
   "nbconvert_exporter": "python",
   "pygments_lexer": "ipython3",
   "version": "3.8.5"
  },
  "toc": {
   "base_numbering": 1,
   "nav_menu": {},
   "number_sections": true,
   "sideBar": true,
   "skip_h1_title": false,
   "title_cell": "Table of Contents",
   "title_sidebar": "Contents",
   "toc_cell": false,
   "toc_position": {},
   "toc_section_display": true,
   "toc_window_display": false
  },
  "varInspector": {
   "cols": {
    "lenName": 16,
    "lenType": 16,
    "lenVar": 40
   },
   "kernels_config": {
    "python": {
     "delete_cmd_postfix": "",
     "delete_cmd_prefix": "del ",
     "library": "var_list.py",
     "varRefreshCmd": "print(var_dic_list())"
    },
    "r": {
     "delete_cmd_postfix": ") ",
     "delete_cmd_prefix": "rm(",
     "library": "var_list.r",
     "varRefreshCmd": "cat(var_dic_list()) "
    }
   },
   "types_to_exclude": [
    "module",
    "function",
    "builtin_function_or_method",
    "instance",
    "_Feature"
   ],
   "window_display": false
  }
 },
 "nbformat": 4,
 "nbformat_minor": 1
}
