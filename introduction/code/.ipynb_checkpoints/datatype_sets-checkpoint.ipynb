{
 "cells": [
  {
   "cell_type": "markdown",
   "metadata": {
    "id": "695T4opo9hCK"
   },
   "source": [
    "<h3>Sets</h3>\n",
    "Uniquess of the items of a set"
   ]
  },
  {
   "cell_type": "code",
   "execution_count": null,
   "metadata": {
    "colab": {
     "base_uri": "https://localhost:8080/"
    },
    "executionInfo": {
     "elapsed": 701,
     "status": "ok",
     "timestamp": 1608045165510,
     "user": {
      "displayName": "Thomas Nelen",
      "photoUrl": "",
      "userId": "09198946240301374422"
     },
     "user_tz": -60
    },
    "id": "vT5ZdgvI9hCM",
    "outputId": "2b6805b9-f4f4-4e71-eaf4-ad7376326146"
   },
   "outputs": [
    {
     "name": "stdout",
     "output_type": "stream",
     "text": [
      "{1, 2, 3}\n",
      "{'i', 's', 'k', 't', 'q', 'r', 'w', 'c', 'e', 'u', ' ', 'y'}\n"
     ]
    }
   ],
   "source": [
    "A = {1, 2, 3,2}\n",
    "print(A)\n",
    "B = set('qwerty is quick')\n",
    "print(B)"
   ]
  },
  {
   "cell_type": "markdown",
   "metadata": {
    "id": "LRp_PZko9hCN"
   },
   "source": [
    "Checking the type of a variable:"
   ]
  },
  {
   "cell_type": "code",
   "execution_count": null,
   "metadata": {
    "colab": {
     "base_uri": "https://localhost:8080/"
    },
    "executionInfo": {
     "elapsed": 1010,
     "status": "ok",
     "timestamp": 1608045165826,
     "user": {
      "displayName": "Thomas Nelen",
      "photoUrl": "",
      "userId": "09198946240301374422"
     },
     "user_tz": -60
    },
    "id": "TqiiZ3h29hCN",
    "outputId": "b79c6287-0b07-49f0-86bf-b4b69a4dd9df"
   },
   "outputs": [
    {
     "data": {
      "text/plain": [
       "set"
      ]
     },
     "execution_count": 2,
     "metadata": {
      "tags": []
     },
     "output_type": "execute_result"
    }
   ],
   "source": [
    "type(B)"
   ]
  },
  {
   "cell_type": "markdown",
   "metadata": {
    "id": "ISLv4G1i9hCN"
   },
   "source": [
    "Can I get access to the first item ?"
   ]
  },
  {
   "cell_type": "code",
   "execution_count": null,
   "metadata": {
    "colab": {
     "base_uri": "https://localhost:8080/"
    },
    "executionInfo": {
     "elapsed": 1005,
     "status": "ok",
     "timestamp": 1608045165826,
     "user": {
      "displayName": "Thomas Nelen",
      "photoUrl": "",
      "userId": "09198946240301374422"
     },
     "user_tz": -60
    },
    "id": "n8iB7A0m9hCO",
    "outputId": "ee8c4ef0-9c93-4b34-b09c-a3aff012c0bb"
   },
   "outputs": [
    {
     "data": {
      "text/plain": [
       "str"
      ]
     },
     "execution_count": 3,
     "metadata": {
      "tags": []
     },
     "output_type": "execute_result"
    }
   ],
   "source": [
    "type(next(iter(B)))"
   ]
  },
  {
   "cell_type": "markdown",
   "metadata": {
    "id": "LFkY_spV9hCO"
   },
   "source": [
    "There is no order and the items are unique. This makes comparisons easy:"
   ]
  },
  {
   "cell_type": "code",
   "execution_count": null,
   "metadata": {
    "colab": {
     "base_uri": "https://localhost:8080/"
    },
    "executionInfo": {
     "elapsed": 1002,
     "status": "ok",
     "timestamp": 1608045165827,
     "user": {
      "displayName": "Thomas Nelen",
      "photoUrl": "",
      "userId": "09198946240301374422"
     },
     "user_tz": -60
    },
    "id": "wLrfqQ8R9hCO",
    "outputId": "46e9c8a6-11ad-4ba8-84cd-670db5b9a042"
   },
   "outputs": [
    {
     "name": "stdout",
     "output_type": "stream",
     "text": [
      "True\n"
     ]
    }
   ],
   "source": [
    "A = {1, 2, 3}\n",
    "B = {3, 2, 3, 1}\n",
    "print(A == B)"
   ]
  },
  {
   "cell_type": "markdown",
   "metadata": {
    "id": "9lnCsqgG9hCP"
   },
   "source": [
    "One can iterate over all the elements of the set (in an undefined order!) using the loop <b>for</b>:"
   ]
  },
  {
   "cell_type": "code",
   "execution_count": null,
   "metadata": {
    "colab": {
     "base_uri": "https://localhost:8080/"
    },
    "executionInfo": {
     "elapsed": 998,
     "status": "ok",
     "timestamp": 1608045165827,
     "user": {
      "displayName": "Thomas Nelen",
      "photoUrl": "",
      "userId": "09198946240301374422"
     },
     "user_tz": -60
    },
    "id": "FbsqdhMx9hCP",
    "outputId": "60d803a8-e3a4-43ac-94fe-5c77601c97ac"
   },
   "outputs": [
    {
     "name": "stdout",
     "output_type": "stream",
     "text": [
      "2\n",
      "3\n",
      "5\n",
      "7\n",
      "11\n"
     ]
    }
   ],
   "source": [
    "primes = {2, 3, 5, 7, 11}\n",
    "for num in primes:\n",
    "    print(num)"
   ]
  },
  {
   "cell_type": "markdown",
   "metadata": {
    "id": "Ph4ljogD9hCP"
   },
   "source": [
    "Check if a name is in a set :"
   ]
  },
  {
   "cell_type": "code",
   "execution_count": null,
   "metadata": {
    "colab": {
     "base_uri": "https://localhost:8080/"
    },
    "executionInfo": {
     "elapsed": 995,
     "status": "ok",
     "timestamp": 1608045165828,
     "user": {
      "displayName": "Thomas Nelen",
      "photoUrl": "",
      "userId": "09198946240301374422"
     },
     "user_tz": -60
    },
    "id": "qhlhc9iG9hCP",
    "outputId": "0556bf8e-d0c7-41e4-b6b4-f9b04f6e017e"
   },
   "outputs": [
    {
     "name": "stdout",
     "output_type": "stream",
     "text": [
      "False\n"
     ]
    }
   ],
   "source": [
    "A = {1, 2, 3}\n",
    "B = 4\n",
    "print(B in A)"
   ]
  },
  {
   "cell_type": "code",
   "execution_count": null,
   "metadata": {
    "id": "2Cttetd69hCQ"
   },
   "outputs": [],
   "source": []
  }
 ],
 "metadata": {
  "colab": {
   "collapsed_sections": [],
   "name": "datatype_sets.ipynb",
   "provenance": []
  },
  "kernelspec": {
   "display_name": "Python 3",
   "language": "python",
   "name": "python3"
  },
  "language_info": {
   "codemirror_mode": {
    "name": "ipython",
    "version": 3
   },
   "file_extension": ".py",
   "mimetype": "text/x-python",
   "name": "python",
   "nbconvert_exporter": "python",
   "pygments_lexer": "ipython3",
   "version": "3.8.5"
  },
  "toc": {
   "base_numbering": 1,
   "nav_menu": {},
   "number_sections": true,
   "sideBar": true,
   "skip_h1_title": false,
   "title_cell": "Table of Contents",
   "title_sidebar": "Contents",
   "toc_cell": false,
   "toc_position": {},
   "toc_section_display": true,
   "toc_window_display": false
  },
  "varInspector": {
   "cols": {
    "lenName": 16,
    "lenType": 16,
    "lenVar": 40
   },
   "kernels_config": {
    "python": {
     "delete_cmd_postfix": "",
     "delete_cmd_prefix": "del ",
     "library": "var_list.py",
     "varRefreshCmd": "print(var_dic_list())"
    },
    "r": {
     "delete_cmd_postfix": ") ",
     "delete_cmd_prefix": "rm(",
     "library": "var_list.r",
     "varRefreshCmd": "cat(var_dic_list()) "
    }
   },
   "types_to_exclude": [
    "module",
    "function",
    "builtin_function_or_method",
    "instance",
    "_Feature"
   ],
   "window_display": false
  }
 },
 "nbformat": 4,
 "nbformat_minor": 1
}
