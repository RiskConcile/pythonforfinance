{
 "cells": [
  {
   "cell_type": "code",
   "execution_count": 1,
   "metadata": {
    "colab": {
     "base_uri": "https://localhost:8080/"
    },
    "executionInfo": {
     "elapsed": 16562,
     "status": "ok",
     "timestamp": 1608044997274,
     "user": {
      "displayName": "Thomas Nelen",
      "photoUrl": "",
      "userId": "09198946240301374422"
     },
     "user_tz": -60
    },
    "id": "2MI9QrOIkn9J",
    "outputId": "dc964560-c5df-4fb8-c6d6-2c7cb398267f"
   },
   "outputs": [],
   "source": [
    "import importlib\n",
    " \n",
    "if importlib.util.find_spec('fsspec') is None:\n",
    "  !pip install fsspec\n",
    "if importlib.util.find_spec('s3fs') is None:\n",
    "  !pip install s3fs\n",
    "  \n",
    "import pandas as pd\n",
    "import matplotlib.pyplot as plt\n",
    "import seaborn as sns\n",
    "import numpy as np\n",
    "sns.set()\n",
    "%matplotlib inline"
   ]
  },
  {
   "cell_type": "code",
   "execution_count": 2,
   "metadata": {
    "executionInfo": {
     "elapsed": 20712,
     "status": "ok",
     "timestamp": 1608045001428,
     "user": {
      "displayName": "Thomas Nelen",
      "photoUrl": "",
      "userId": "09198946240301374422"
     },
     "user_tz": -60
    },
    "id": "2D2I_X_Hkn9L"
   },
   "outputs": [],
   "source": [
    "df = pd.read_excel('s3://lfspf/Portfolio.xls')"
   ]
  },
  {
   "cell_type": "code",
   "execution_count": 3,
   "metadata": {
    "colab": {
     "base_uri": "https://localhost:8080/",
     "height": 111
    },
    "executionInfo": {
     "elapsed": 20739,
     "status": "ok",
     "timestamp": 1608045001462,
     "user": {
      "displayName": "Thomas Nelen",
      "photoUrl": "",
      "userId": "09198946240301374422"
     },
     "user_tz": -60
    },
    "id": "C_YLSKMUkn9M",
    "outputId": "d619c17c-1589-42d9-c607-a1f0f1d62213"
   },
   "outputs": [
    {
     "data": {
      "text/html": [
       "<div>\n",
       "<style scoped>\n",
       "    .dataframe tbody tr th:only-of-type {\n",
       "        vertical-align: middle;\n",
       "    }\n",
       "\n",
       "    .dataframe tbody tr th {\n",
       "        vertical-align: top;\n",
       "    }\n",
       "\n",
       "    .dataframe thead th {\n",
       "        text-align: right;\n",
       "    }\n",
       "</style>\n",
       "<table border=\"1\" class=\"dataframe\">\n",
       "  <thead>\n",
       "    <tr style=\"text-align: right;\">\n",
       "      <th></th>\n",
       "      <th>date</th>\n",
       "      <th>country</th>\n",
       "      <th>sector</th>\n",
       "      <th>exposure</th>\n",
       "      <th>mtd</th>\n",
       "      <th>nav</th>\n",
       "      <th>strategy</th>\n",
       "      <th>type</th>\n",
       "      <th>issuer</th>\n",
       "    </tr>\n",
       "  </thead>\n",
       "  <tbody>\n",
       "    <tr>\n",
       "      <th>0</th>\n",
       "      <td>2018-01-31</td>\n",
       "      <td>Switzerland</td>\n",
       "      <td>Consumer, Non-cyclical</td>\n",
       "      <td>0.0</td>\n",
       "      <td>0.0</td>\n",
       "      <td>1.884133e+08</td>\n",
       "      <td>SPECIAL SITUATIONS</td>\n",
       "      <td>Equity</td>\n",
       "      <td>Degroof</td>\n",
       "    </tr>\n",
       "    <tr>\n",
       "      <th>1</th>\n",
       "      <td>2018-01-31</td>\n",
       "      <td>Sweden</td>\n",
       "      <td>Consumer, Non-cyclical</td>\n",
       "      <td>0.0</td>\n",
       "      <td>0.0</td>\n",
       "      <td>1.884133e+08</td>\n",
       "      <td>CAPITAL MARKETS</td>\n",
       "      <td>Equity</td>\n",
       "      <td>SVENSKA CELLULOSA AB SCA</td>\n",
       "    </tr>\n",
       "  </tbody>\n",
       "</table>\n",
       "</div>"
      ],
      "text/plain": [
       "        date      country                  sector  exposure  mtd  \\\n",
       "0 2018-01-31  Switzerland  Consumer, Non-cyclical       0.0  0.0   \n",
       "1 2018-01-31       Sweden  Consumer, Non-cyclical       0.0  0.0   \n",
       "\n",
       "            nav            strategy    type                    issuer  \n",
       "0  1.884133e+08  SPECIAL SITUATIONS  Equity                   Degroof  \n",
       "1  1.884133e+08     CAPITAL MARKETS  Equity  SVENSKA CELLULOSA AB SCA  "
      ]
     },
     "execution_count": 3,
     "metadata": {},
     "output_type": "execute_result"
    }
   ],
   "source": [
    "df.head(2)"
   ]
  },
  {
   "cell_type": "code",
   "execution_count": 4,
   "metadata": {
    "colab": {
     "base_uri": "https://localhost:8080/",
     "height": 111
    },
    "executionInfo": {
     "elapsed": 20736,
     "status": "ok",
     "timestamp": 1608045001466,
     "user": {
      "displayName": "Thomas Nelen",
      "photoUrl": "",
      "userId": "09198946240301374422"
     },
     "user_tz": -60
    },
    "id": "uFz1WI89kn9N",
    "outputId": "5bceb0b5-1d38-4cf6-a71c-2bdccaeae15b"
   },
   "outputs": [
    {
     "data": {
      "text/html": [
       "<div>\n",
       "<style scoped>\n",
       "    .dataframe tbody tr th:only-of-type {\n",
       "        vertical-align: middle;\n",
       "    }\n",
       "\n",
       "    .dataframe tbody tr th {\n",
       "        vertical-align: top;\n",
       "    }\n",
       "\n",
       "    .dataframe thead th {\n",
       "        text-align: right;\n",
       "    }\n",
       "</style>\n",
       "<table border=\"1\" class=\"dataframe\">\n",
       "  <thead>\n",
       "    <tr style=\"text-align: right;\">\n",
       "      <th></th>\n",
       "      <th>date</th>\n",
       "      <th>country</th>\n",
       "      <th>sector</th>\n",
       "      <th>exposure</th>\n",
       "      <th>mtd</th>\n",
       "      <th>nav</th>\n",
       "      <th>strategy</th>\n",
       "      <th>type</th>\n",
       "      <th>issuer</th>\n",
       "    </tr>\n",
       "  </thead>\n",
       "  <tbody>\n",
       "    <tr>\n",
       "      <th>22091</th>\n",
       "      <td>2018-12-31</td>\n",
       "      <td>United States</td>\n",
       "      <td>Future</td>\n",
       "      <td>-3.757875e+06</td>\n",
       "      <td>-1.667176e+05</td>\n",
       "      <td>1.019061e+08</td>\n",
       "      <td>SPECIAL SITUATIONS</td>\n",
       "      <td>Future</td>\n",
       "      <td>SPX Index</td>\n",
       "    </tr>\n",
       "    <tr>\n",
       "      <th>22092</th>\n",
       "      <td>2018-12-31</td>\n",
       "      <td>Canada</td>\n",
       "      <td>Basic Materials</td>\n",
       "      <td>2.510541e+06</td>\n",
       "      <td>-1.158847e+06</td>\n",
       "      <td>1.019061e+08</td>\n",
       "      <td>CAPITAL MARKETS</td>\n",
       "      <td>Equity</td>\n",
       "      <td>Cobalt 27 Capital Corp</td>\n",
       "    </tr>\n",
       "  </tbody>\n",
       "</table>\n",
       "</div>"
      ],
      "text/plain": [
       "            date        country           sector      exposure           mtd  \\\n",
       "22091 2018-12-31  United States           Future -3.757875e+06 -1.667176e+05   \n",
       "22092 2018-12-31         Canada  Basic Materials  2.510541e+06 -1.158847e+06   \n",
       "\n",
       "                nav            strategy    type                  issuer  \n",
       "22091  1.019061e+08  SPECIAL SITUATIONS  Future               SPX Index  \n",
       "22092  1.019061e+08     CAPITAL MARKETS  Equity  Cobalt 27 Capital Corp  "
      ]
     },
     "execution_count": 4,
     "metadata": {},
     "output_type": "execute_result"
    }
   ],
   "source": [
    "df.tail(2)"
   ]
  },
  {
   "cell_type": "code",
   "execution_count": 5,
   "metadata": {
    "executionInfo": {
     "elapsed": 20735,
     "status": "ok",
     "timestamp": 1608045001467,
     "user": {
      "displayName": "Thomas Nelen",
      "photoUrl": "",
      "userId": "09198946240301374422"
     },
     "user_tz": -60
    },
    "id": "JIUTE1CYkn9O"
   },
   "outputs": [],
   "source": [
    "df['mtd%'] = df['mtd']/df['nav']\n",
    "df['exposure%'] = df['exposure']/df['nav']"
   ]
  },
  {
   "cell_type": "code",
   "execution_count": 6,
   "metadata": {
    "executionInfo": {
     "elapsed": 20733,
     "status": "ok",
     "timestamp": 1608045001467,
     "user": {
      "displayName": "Thomas Nelen",
      "photoUrl": "",
      "userId": "09198946240301374422"
     },
     "user_tz": -60
    },
    "id": "4bn5fXehkn9O"
   },
   "outputs": [],
   "source": [
    "df_issuer = df.groupby('issuer').sum()"
   ]
  },
  {
   "cell_type": "code",
   "execution_count": 7,
   "metadata": {
    "executionInfo": {
     "elapsed": 20730,
     "status": "ok",
     "timestamp": 1608045001468,
     "user": {
      "displayName": "Thomas Nelen",
      "photoUrl": "",
      "userId": "09198946240301374422"
     },
     "user_tz": -60
    },
    "id": "g1rJps4Vkn9P"
   },
   "outputs": [],
   "source": [
    "df_winners = df_issuer.sort_values(by='mtd%',ascending=False).head(5)"
   ]
  },
  {
   "cell_type": "code",
   "execution_count": 8,
   "metadata": {
    "colab": {
     "base_uri": "https://localhost:8080/",
     "height": 235
    },
    "executionInfo": {
     "elapsed": 20724,
     "status": "ok",
     "timestamp": 1608045001470,
     "user": {
      "displayName": "Thomas Nelen",
      "photoUrl": "",
      "userId": "09198946240301374422"
     },
     "user_tz": -60
    },
    "id": "R9BfE8bUkn9P",
    "outputId": "6ab89276-c701-4996-ef11-67d02b4422a8"
   },
   "outputs": [
    {
     "data": {
      "text/html": [
       "<div>\n",
       "<style scoped>\n",
       "    .dataframe tbody tr th:only-of-type {\n",
       "        vertical-align: middle;\n",
       "    }\n",
       "\n",
       "    .dataframe tbody tr th {\n",
       "        vertical-align: top;\n",
       "    }\n",
       "\n",
       "    .dataframe thead th {\n",
       "        text-align: right;\n",
       "    }\n",
       "</style>\n",
       "<table border=\"1\" class=\"dataframe\">\n",
       "  <thead>\n",
       "    <tr style=\"text-align: right;\">\n",
       "      <th></th>\n",
       "      <th>EX</th>\n",
       "      <th>MTD</th>\n",
       "      <th>NAV</th>\n",
       "      <th>MTD%</th>\n",
       "      <th>EX%</th>\n",
       "    </tr>\n",
       "    <tr>\n",
       "      <th>issuer</th>\n",
       "      <th></th>\n",
       "      <th></th>\n",
       "      <th></th>\n",
       "      <th></th>\n",
       "      <th></th>\n",
       "    </tr>\n",
       "  </thead>\n",
       "  <tbody>\n",
       "    <tr>\n",
       "      <th>Sky PLC</th>\n",
       "      <td>9.359811e+07</td>\n",
       "      <td>7.509217e+06</td>\n",
       "      <td>1.107022e+10</td>\n",
       "      <td>0.039597</td>\n",
       "      <td>5.125456e-01</td>\n",
       "    </tr>\n",
       "    <tr>\n",
       "      <th>CME Group Inc</th>\n",
       "      <td>-1.148650e+07</td>\n",
       "      <td>5.188004e+06</td>\n",
       "      <td>7.577057e+08</td>\n",
       "      <td>0.031725</td>\n",
       "      <td>-6.454781e-02</td>\n",
       "    </tr>\n",
       "    <tr>\n",
       "      <th>CVS Health Corp</th>\n",
       "      <td>-2.880760e+06</td>\n",
       "      <td>4.048054e+06</td>\n",
       "      <td>3.980991e+08</td>\n",
       "      <td>0.030274</td>\n",
       "      <td>-1.771543e-02</td>\n",
       "    </tr>\n",
       "    <tr>\n",
       "      <th>INFORMA PLC</th>\n",
       "      <td>1.102784e+01</td>\n",
       "      <td>4.947013e+06</td>\n",
       "      <td>1.120873e+09</td>\n",
       "      <td>0.026223</td>\n",
       "      <td>5.845508e-08</td>\n",
       "    </tr>\n",
       "    <tr>\n",
       "      <th>Worldpay Inc</th>\n",
       "      <td>0.000000e+00</td>\n",
       "      <td>4.870856e+06</td>\n",
       "      <td>6.285123e+09</td>\n",
       "      <td>0.025852</td>\n",
       "      <td>0.000000e+00</td>\n",
       "    </tr>\n",
       "  </tbody>\n",
       "</table>\n",
       "</div>"
      ],
      "text/plain": [
       "                           EX           MTD           NAV      MTD%  \\\n",
       "issuer                                                                \n",
       "Sky PLC          9.359811e+07  7.509217e+06  1.107022e+10  0.039597   \n",
       "CME Group Inc   -1.148650e+07  5.188004e+06  7.577057e+08  0.031725   \n",
       "CVS Health Corp -2.880760e+06  4.048054e+06  3.980991e+08  0.030274   \n",
       "INFORMA PLC      1.102784e+01  4.947013e+06  1.120873e+09  0.026223   \n",
       "Worldpay Inc     0.000000e+00  4.870856e+06  6.285123e+09  0.025852   \n",
       "\n",
       "                          EX%  \n",
       "issuer                         \n",
       "Sky PLC          5.125456e-01  \n",
       "CME Group Inc   -6.454781e-02  \n",
       "CVS Health Corp -1.771543e-02  \n",
       "INFORMA PLC      5.845508e-08  \n",
       "Worldpay Inc     0.000000e+00  "
      ]
     },
     "execution_count": 8,
     "metadata": {},
     "output_type": "execute_result"
    }
   ],
   "source": [
    "df_winners.columns=['EX','MTD','NAV','MTD%','EX%']\n",
    "df_winners"
   ]
  },
  {
   "cell_type": "code",
   "execution_count": 9,
   "metadata": {
    "colab": {
     "base_uri": "https://localhost:8080/",
     "height": 235
    },
    "executionInfo": {
     "elapsed": 20718,
     "status": "ok",
     "timestamp": 1608045001471,
     "user": {
      "displayName": "Thomas Nelen",
      "photoUrl": "",
      "userId": "09198946240301374422"
     },
     "user_tz": -60
    },
    "id": "_7VavAE2kn9P",
    "outputId": "e651b0fa-164c-4f12-b559-da7bc43fadbd"
   },
   "outputs": [
    {
     "data": {
      "text/html": [
       "<div>\n",
       "<style scoped>\n",
       "    .dataframe tbody tr th:only-of-type {\n",
       "        vertical-align: middle;\n",
       "    }\n",
       "\n",
       "    .dataframe tbody tr th {\n",
       "        vertical-align: top;\n",
       "    }\n",
       "\n",
       "    .dataframe thead th {\n",
       "        text-align: right;\n",
       "    }\n",
       "</style>\n",
       "<table border=\"1\" class=\"dataframe\">\n",
       "  <thead>\n",
       "    <tr style=\"text-align: right;\">\n",
       "      <th></th>\n",
       "      <th>EX</th>\n",
       "      <th>MTD</th>\n",
       "      <th>NAV</th>\n",
       "      <th>MTD%</th>\n",
       "      <th>EX%</th>\n",
       "    </tr>\n",
       "    <tr>\n",
       "      <th>issuer</th>\n",
       "      <th></th>\n",
       "      <th></th>\n",
       "      <th></th>\n",
       "      <th></th>\n",
       "      <th></th>\n",
       "    </tr>\n",
       "  </thead>\n",
       "  <tbody>\n",
       "    <tr>\n",
       "      <th>Cobalt 27 Capital Corp</th>\n",
       "      <td>6.954105e+07</td>\n",
       "      <td>-7.124498e+06</td>\n",
       "      <td>4.743689e+09</td>\n",
       "      <td>-0.046140</td>\n",
       "      <td>0.391730</td>\n",
       "    </tr>\n",
       "    <tr>\n",
       "      <th>Spaxs SpA</th>\n",
       "      <td>1.264044e+08</td>\n",
       "      <td>-4.179590e+06</td>\n",
       "      <td>4.190082e+09</td>\n",
       "      <td>-0.031567</td>\n",
       "      <td>0.739033</td>\n",
       "    </tr>\n",
       "    <tr>\n",
       "      <th>NEX Group PLC</th>\n",
       "      <td>1.994713e+07</td>\n",
       "      <td>-4.930047e+06</td>\n",
       "      <td>7.577057e+08</td>\n",
       "      <td>-0.029696</td>\n",
       "      <td>0.112221</td>\n",
       "    </tr>\n",
       "    <tr>\n",
       "      <th>NXP Semiconductors NV</th>\n",
       "      <td>1.283201e+08</td>\n",
       "      <td>-5.191723e+06</td>\n",
       "      <td>1.436283e+10</td>\n",
       "      <td>-0.028776</td>\n",
       "      <td>0.681375</td>\n",
       "    </tr>\n",
       "    <tr>\n",
       "      <th>Aetna Inc</th>\n",
       "      <td>9.424000e+06</td>\n",
       "      <td>-3.715777e+06</td>\n",
       "      <td>2.493140e+09</td>\n",
       "      <td>-0.027715</td>\n",
       "      <td>0.057954</td>\n",
       "    </tr>\n",
       "  </tbody>\n",
       "</table>\n",
       "</div>"
      ],
      "text/plain": [
       "                                  EX           MTD           NAV      MTD%  \\\n",
       "issuer                                                                       \n",
       "Cobalt 27 Capital Corp  6.954105e+07 -7.124498e+06  4.743689e+09 -0.046140   \n",
       "Spaxs SpA               1.264044e+08 -4.179590e+06  4.190082e+09 -0.031567   \n",
       "NEX Group PLC           1.994713e+07 -4.930047e+06  7.577057e+08 -0.029696   \n",
       "NXP Semiconductors NV   1.283201e+08 -5.191723e+06  1.436283e+10 -0.028776   \n",
       "Aetna Inc               9.424000e+06 -3.715777e+06  2.493140e+09 -0.027715   \n",
       "\n",
       "                             EX%  \n",
       "issuer                            \n",
       "Cobalt 27 Capital Corp  0.391730  \n",
       "Spaxs SpA               0.739033  \n",
       "NEX Group PLC           0.112221  \n",
       "NXP Semiconductors NV   0.681375  \n",
       "Aetna Inc               0.057954  "
      ]
     },
     "execution_count": 9,
     "metadata": {},
     "output_type": "execute_result"
    }
   ],
   "source": [
    "df_losers = df_issuer.sort_values(by='mtd%',ascending=True).head(5)\n",
    "df_losers.columns=['EX','MTD','NAV','MTD%','EX%']\n",
    "df_losers"
   ]
  },
  {
   "cell_type": "code",
   "execution_count": 10,
   "metadata": {
    "colab": {
     "base_uri": "https://localhost:8080/"
    },
    "executionInfo": {
     "elapsed": 20728,
     "status": "ok",
     "timestamp": 1608045001488,
     "user": {
      "displayName": "Thomas Nelen",
      "photoUrl": "",
      "userId": "09198946240301374422"
     },
     "user_tz": -60
    },
    "id": "YhDsr9U_kn9P",
    "outputId": "3b3e7baa-2358-4a3f-9d0a-cdede862f976"
   },
   "outputs": [
    {
     "data": {
      "text/plain": [
       "(12,)"
      ]
     },
     "execution_count": 10,
     "metadata": {},
     "output_type": "execute_result"
    }
   ],
   "source": [
    "df['date'].unique().shape"
   ]
  },
  {
   "cell_type": "code",
   "execution_count": 11,
   "metadata": {
    "executionInfo": {
     "elapsed": 20734,
     "status": "ok",
     "timestamp": 1608045001499,
     "user": {
      "displayName": "Thomas Nelen",
      "photoUrl": "",
      "userId": "09198946240301374422"
     },
     "user_tz": -60
    },
    "id": "-PECfJ_akn9Q"
   },
   "outputs": [],
   "source": [
    "df_pnl = df.groupby('issuer').sum()['mtd']\n",
    "df_exp = df.groupby('issuer').mean()['exposure']"
   ]
  },
  {
   "cell_type": "code",
   "execution_count": 12,
   "metadata": {
    "colab": {
     "base_uri": "https://localhost:8080/",
     "height": 204
    },
    "executionInfo": {
     "elapsed": 20727,
     "status": "ok",
     "timestamp": 1608045001499,
     "user": {
      "displayName": "Thomas Nelen",
      "photoUrl": "",
      "userId": "09198946240301374422"
     },
     "user_tz": -60
    },
    "id": "qSKjL5bXkn9Q",
    "outputId": "97361f78-60a2-43e5-b58f-1d6d212262c1"
   },
   "outputs": [
    {
     "data": {
      "text/html": [
       "<div>\n",
       "<style scoped>\n",
       "    .dataframe tbody tr th:only-of-type {\n",
       "        vertical-align: middle;\n",
       "    }\n",
       "\n",
       "    .dataframe tbody tr th {\n",
       "        vertical-align: top;\n",
       "    }\n",
       "\n",
       "    .dataframe thead th {\n",
       "        text-align: right;\n",
       "    }\n",
       "</style>\n",
       "<table border=\"1\" class=\"dataframe\">\n",
       "  <thead>\n",
       "    <tr style=\"text-align: right;\">\n",
       "      <th></th>\n",
       "      <th>mtd</th>\n",
       "      <th>exposure</th>\n",
       "    </tr>\n",
       "    <tr>\n",
       "      <th>issuer</th>\n",
       "      <th></th>\n",
       "      <th></th>\n",
       "    </tr>\n",
       "  </thead>\n",
       "  <tbody>\n",
       "    <tr>\n",
       "      <th>3 Month Euroswiss Future</th>\n",
       "      <td>-316.404213</td>\n",
       "      <td>0.0</td>\n",
       "    </tr>\n",
       "    <tr>\n",
       "      <th>888 Holdings PLC</th>\n",
       "      <td>0.000000</td>\n",
       "      <td>0.0</td>\n",
       "    </tr>\n",
       "    <tr>\n",
       "      <th>AA PLC</th>\n",
       "      <td>0.000000</td>\n",
       "      <td>0.0</td>\n",
       "    </tr>\n",
       "    <tr>\n",
       "      <th>ABB Ltd</th>\n",
       "      <td>0.000000</td>\n",
       "      <td>0.0</td>\n",
       "    </tr>\n",
       "  </tbody>\n",
       "</table>\n",
       "</div>"
      ],
      "text/plain": [
       "                                 mtd  exposure\n",
       "issuer                                        \n",
       "3 Month Euroswiss Future -316.404213       0.0\n",
       "888 Holdings PLC            0.000000       0.0\n",
       "AA PLC                      0.000000       0.0\n",
       "ABB Ltd                     0.000000       0.0"
      ]
     },
     "execution_count": 12,
     "metadata": {},
     "output_type": "execute_result"
    }
   ],
   "source": [
    "pd.concat([df_pnl,df_exp],axis=1).head(4)"
   ]
  },
  {
   "cell_type": "code",
   "execution_count": 13,
   "metadata": {
    "executionInfo": {
     "elapsed": 21124,
     "status": "ok",
     "timestamp": 1608045001898,
     "user": {
      "displayName": "Thomas Nelen",
      "photoUrl": "",
      "userId": "09198946240301374422"
     },
     "user_tz": -60
    },
    "id": "tk-l5k20kn9Q"
   },
   "outputs": [],
   "source": [
    "df_pnl = df.groupby('strategy').sum()['mtd%']*100"
   ]
  },
  {
   "cell_type": "code",
   "execution_count": 14,
   "metadata": {
    "colab": {
     "base_uri": "https://localhost:8080/"
    },
    "executionInfo": {
     "elapsed": 21117,
     "status": "ok",
     "timestamp": 1608045001899,
     "user": {
      "displayName": "Thomas Nelen",
      "photoUrl": "",
      "userId": "09198946240301374422"
     },
     "user_tz": -60
    },
    "id": "_YFjrUC3kn9Q",
    "outputId": "b21aff8b-d734-4048-aad4-2745c5726452"
   },
   "outputs": [
    {
     "data": {
      "text/plain": [
       "strategy\n",
       "ARBITRAGE              1.269347\n",
       "CAPITAL MARKETS      -21.167305\n",
       "SPECIAL SITUATIONS    -0.721946\n",
       "Name: mtd%, dtype: float64"
      ]
     },
     "execution_count": 14,
     "metadata": {},
     "output_type": "execute_result"
    }
   ],
   "source": [
    "df_pnl"
   ]
  },
  {
   "cell_type": "code",
   "execution_count": 15,
   "metadata": {
    "colab": {
     "base_uri": "https://localhost:8080/"
    },
    "executionInfo": {
     "elapsed": 21113,
     "status": "ok",
     "timestamp": 1608045001900,
     "user": {
      "displayName": "Thomas Nelen",
      "photoUrl": "",
      "userId": "09198946240301374422"
     },
     "user_tz": -60
    },
    "id": "f0Qb9Okzkn9Q",
    "outputId": "14c16b1a-226f-47c3-ce10-b700d056b55c"
   },
   "outputs": [
    {
     "data": {
      "text/plain": [
       "date\n",
       "2018-01-31    0.054107\n",
       "2018-02-28   -0.021651\n",
       "2018-03-30   -0.011636\n",
       "2018-04-30   -0.007467\n",
       "2018-05-31   -0.002503\n",
       "2018-06-29    0.003335\n",
       "2018-07-31   -0.020540\n",
       "2018-08-31   -0.001832\n",
       "2018-09-28   -0.020825\n",
       "2018-10-31   -0.111300\n",
       "2018-11-30   -0.014185\n",
       "2018-12-31   -0.051702\n",
       "Name: mtd%, dtype: float64"
      ]
     },
     "execution_count": 15,
     "metadata": {},
     "output_type": "execute_result"
    }
   ],
   "source": [
    "df_pnl = df.groupby('date').sum()['mtd%']\n",
    "df_pnl"
   ]
  },
  {
   "cell_type": "code",
   "execution_count": 16,
   "metadata": {
    "colab": {
     "base_uri": "https://localhost:8080/",
     "height": 355
    },
    "executionInfo": {
     "elapsed": 21584,
     "status": "ok",
     "timestamp": 1608045002385,
     "user": {
      "displayName": "Thomas Nelen",
      "photoUrl": "",
      "userId": "09198946240301374422"
     },
     "user_tz": -60
    },
    "id": "JqyBn-mMkn9R",
    "outputId": "808a84c1-4982-4e4b-bb86-b84deabad06d"
   },
   "outputs": [
    {
     "data": {
      "image/png": "[encoded data removed]",
      "text/plain": [
       "<Figure size 720x360 with 1 Axes>"
      ]
     },
     "metadata": {
      "needs_background": "light"
     },
     "output_type": "display_data"
    }
   ],
   "source": [
    "fig, ax = plt.subplots(1,1,figsize=(10,5))\n",
    "ax.plot(df_pnl.index,df_pnl,'k');\n",
    "ax.set_xlabel('T')\n",
    "ax.set_ylabel('MTD')\n",
    "ax.set_title('PNL');"
   ]
  },
  {
   "cell_type": "markdown",
   "metadata": {
    "id": "9W3WmkBTkn9R"
   },
   "source": [
    "PNL by strategy and over time"
   ]
  },
  {
   "cell_type": "code",
   "execution_count": 17,
   "metadata": {
    "colab": {
     "base_uri": "https://localhost:8080/",
     "height": 213
    },
    "executionInfo": {
     "elapsed": 21572,
     "status": "ok",
     "timestamp": 1608045002386,
     "user": {
      "displayName": "Thomas Nelen",
      "photoUrl": "",
      "userId": "09198946240301374422"
     },
     "user_tz": -60
    },
    "id": "m80qlmAkkn9R",
    "outputId": "d238afa4-bff9-4229-e8f5-6980433d252e"
   },
   "outputs": [
    {
     "data": {
      "image/png": "[encoded data removed]",
      "text/plain": [
       "<Figure size 720x216 with 1 Axes>"
      ]
     },
     "metadata": {
      "needs_background": "light"
     },
     "output_type": "display_data"
    }
   ],
   "source": [
    "fig, ax = plt.subplots(1,1,figsize=(10,3))\n",
    "for s in df['strategy'].unique():\n",
    "    idx = df['strategy']==s\n",
    "    df_2_plot = df.loc[idx,:]\n",
    "    df_2_plot = df_2_plot.groupby('date').sum()['mtd%']\n",
    "    ax.plot(df_2_plot.index,np.cumsum(df_2_plot),label=s)\n",
    "ax.legend();"
   ]
  },
  {
   "cell_type": "code",
   "execution_count": 18,
   "metadata": {
    "executionInfo": {
     "elapsed": 21981,
     "status": "ok",
     "timestamp": 1608045002799,
     "user": {
      "displayName": "Thomas Nelen",
      "photoUrl": "",
      "userId": "09198946240301374422"
     },
     "user_tz": -60
    },
    "id": "GZj7Ef7_kn9S"
   },
   "outputs": [],
   "source": [
    "df_piv = df.pivot_table(columns='country',\n",
    "               index='sector',\n",
    "               values='mtd%',\n",
    "               aggfunc=[np.sum, max ,min],\n",
    "               margins=True,\n",
    "               margins_name='Total')"
   ]
  },
  {
   "cell_type": "code",
   "execution_count": 19,
   "metadata": {
    "executionInfo": {
     "elapsed": 21980,
     "status": "ok",
     "timestamp": 1608045002800,
     "user": {
      "displayName": "Thomas Nelen",
      "photoUrl": "",
      "userId": "09198946240301374422"
     },
     "user_tz": -60
    },
    "id": "lFEe8RzGkn9S"
   },
   "outputs": [],
   "source": [
    "df_piv = df_piv.fillna(value=0)"
   ]
  },
  {
   "cell_type": "code",
   "execution_count": 20,
   "metadata": {
    "colab": {
     "base_uri": "https://localhost:8080/",
     "height": 450
    },
    "executionInfo": {
     "elapsed": 21968,
     "status": "ok",
     "timestamp": 1608045002801,
     "user": {
      "displayName": "Thomas Nelen",
      "photoUrl": "",
      "userId": "09198946240301374422"
     },
     "user_tz": -60
    },
    "id": "E2dSnU58kn9S",
    "outputId": "7fd57262-54ee-48fd-c3e9-fe79bc317cb1"
   },
   "outputs": [
    {
     "data": {
      "text/html": [
       "<div>\n",
       "<style scoped>\n",
       "    .dataframe tbody tr th:only-of-type {\n",
       "        vertical-align: middle;\n",
       "    }\n",
       "\n",
       "    .dataframe tbody tr th {\n",
       "        vertical-align: top;\n",
       "    }\n",
       "\n",
       "    .dataframe thead th {\n",
       "        text-align: right;\n",
       "    }\n",
       "</style>\n",
       "<table border=\"1\" class=\"dataframe\">\n",
       "  <thead>\n",
       "    <tr style=\"text-align: right;\">\n",
       "      <th></th>\n",
       "      <th></th>\n",
       "      <th>exposure</th>\n",
       "      <th>mtd</th>\n",
       "      <th>nav</th>\n",
       "      <th>mtd%</th>\n",
       "      <th>exposure%</th>\n",
       "    </tr>\n",
       "    <tr>\n",
       "      <th>strategy</th>\n",
       "      <th>issuer</th>\n",
       "      <th></th>\n",
       "      <th></th>\n",
       "      <th></th>\n",
       "      <th></th>\n",
       "      <th></th>\n",
       "    </tr>\n",
       "  </thead>\n",
       "  <tbody>\n",
       "    <tr>\n",
       "      <th rowspan=\"5\" valign=\"top\">ARBITRAGE</th>\n",
       "      <th>ABBOTT LABORATORIES</th>\n",
       "      <td>0.000000e+00</td>\n",
       "      <td>0.000000</td>\n",
       "      <td>2.095041e+09</td>\n",
       "      <td>0.000000</td>\n",
       "      <td>0.000000</td>\n",
       "    </tr>\n",
       "    <tr>\n",
       "      <th>ACS Actividades de Construccion y Servicios SA</th>\n",
       "      <td>0.000000e+00</td>\n",
       "      <td>0.000000</td>\n",
       "      <td>2.095041e+09</td>\n",
       "      <td>0.000000</td>\n",
       "      <td>0.000000</td>\n",
       "    </tr>\n",
       "    <tr>\n",
       "      <th>ALPI SpA/Italy</th>\n",
       "      <td>5.406832e+06</td>\n",
       "      <td>147412.713293</td>\n",
       "      <td>3.980991e+08</td>\n",
       "      <td>0.001415</td>\n",
       "      <td>0.042417</td>\n",
       "    </tr>\n",
       "    <tr>\n",
       "      <th>ANSALDO STS SPA</th>\n",
       "      <td>1.456150e+07</td>\n",
       "      <td>331495.912526</td>\n",
       "      <td>5.710788e+08</td>\n",
       "      <td>0.001749</td>\n",
       "      <td>0.076496</td>\n",
       "    </tr>\n",
       "    <tr>\n",
       "      <th>ARM HOLDINGS PLC</th>\n",
       "      <td>0.000000e+00</td>\n",
       "      <td>0.000000</td>\n",
       "      <td>2.095041e+09</td>\n",
       "      <td>0.000000</td>\n",
       "      <td>0.000000</td>\n",
       "    </tr>\n",
       "    <tr>\n",
       "      <th>...</th>\n",
       "      <th>...</th>\n",
       "      <td>...</td>\n",
       "      <td>...</td>\n",
       "      <td>...</td>\n",
       "      <td>...</td>\n",
       "      <td>...</td>\n",
       "    </tr>\n",
       "    <tr>\n",
       "      <th rowspan=\"5\" valign=\"top\">SPECIAL SITUATIONS</th>\n",
       "      <th>iShares MSCI Japan ETF</th>\n",
       "      <td>0.000000e+00</td>\n",
       "      <td>13692.000000</td>\n",
       "      <td>1.906628e+09</td>\n",
       "      <td>0.000072</td>\n",
       "      <td>0.000000</td>\n",
       "    </tr>\n",
       "    <tr>\n",
       "      <th>iShares iBoxx $ High Yield Corporate Bond ETF</th>\n",
       "      <td>0.000000e+00</td>\n",
       "      <td>-11384.400000</td>\n",
       "      <td>1.337335e+09</td>\n",
       "      <td>-0.000060</td>\n",
       "      <td>0.000000</td>\n",
       "    </tr>\n",
       "    <tr>\n",
       "      <th>iShares iBoxx $ Investment Grade Corporate Bond ETF</th>\n",
       "      <td>0.000000e+00</td>\n",
       "      <td>75063.371700</td>\n",
       "      <td>2.095041e+09</td>\n",
       "      <td>0.000398</td>\n",
       "      <td>0.000000</td>\n",
       "    </tr>\n",
       "    <tr>\n",
       "      <th>iShares iBoxx High Yield Corporate Bond ETF</th>\n",
       "      <td>0.000000e+00</td>\n",
       "      <td>0.000000</td>\n",
       "      <td>7.577057e+08</td>\n",
       "      <td>0.000000</td>\n",
       "      <td>0.000000</td>\n",
       "    </tr>\n",
       "    <tr>\n",
       "      <th>va-Q-tec AG</th>\n",
       "      <td>0.000000e+00</td>\n",
       "      <td>0.000000</td>\n",
       "      <td>2.095041e+09</td>\n",
       "      <td>0.000000</td>\n",
       "      <td>0.000000</td>\n",
       "    </tr>\n",
       "  </tbody>\n",
       "</table>\n",
       "<p>1129 rows × 5 columns</p>\n",
       "</div>"
      ],
      "text/plain": [
       "                                                                           exposure  \\\n",
       "strategy           issuer                                                             \n",
       "ARBITRAGE          ABBOTT LABORATORIES                                 0.000000e+00   \n",
       "                   ACS Actividades de Construccion y Servicios SA      0.000000e+00   \n",
       "                   ALPI SpA/Italy                                      5.406832e+06   \n",
       "                   ANSALDO STS SPA                                     1.456150e+07   \n",
       "                   ARM HOLDINGS PLC                                    0.000000e+00   \n",
       "...                                                                             ...   \n",
       "SPECIAL SITUATIONS iShares MSCI Japan ETF                              0.000000e+00   \n",
       "                   iShares iBoxx $ High Yield Corporate Bond ETF       0.000000e+00   \n",
       "                   iShares iBoxx $ Investment Grade Corporate Bond...  0.000000e+00   \n",
       "                   iShares iBoxx High Yield Corporate Bond ETF         0.000000e+00   \n",
       "                   va-Q-tec AG                                         0.000000e+00   \n",
       "\n",
       "                                                                                 mtd  \\\n",
       "strategy           issuer                                                              \n",
       "ARBITRAGE          ABBOTT LABORATORIES                                      0.000000   \n",
       "                   ACS Actividades de Construccion y Servicios SA           0.000000   \n",
       "                   ALPI SpA/Italy                                      147412.713293   \n",
       "                   ANSALDO STS SPA                                     331495.912526   \n",
       "                   ARM HOLDINGS PLC                                         0.000000   \n",
       "...                                                                              ...   \n",
       "SPECIAL SITUATIONS iShares MSCI Japan ETF                               13692.000000   \n",
       "                   iShares iBoxx $ High Yield Corporate Bond ETF       -11384.400000   \n",
       "                   iShares iBoxx $ Investment Grade Corporate Bond...   75063.371700   \n",
       "                   iShares iBoxx High Yield Corporate Bond ETF              0.000000   \n",
       "                   va-Q-tec AG                                              0.000000   \n",
       "\n",
       "                                                                                nav  \\\n",
       "strategy           issuer                                                             \n",
       "ARBITRAGE          ABBOTT LABORATORIES                                 2.095041e+09   \n",
       "                   ACS Actividades de Construccion y Servicios SA      2.095041e+09   \n",
       "                   ALPI SpA/Italy                                      3.980991e+08   \n",
       "                   ANSALDO STS SPA                                     5.710788e+08   \n",
       "                   ARM HOLDINGS PLC                                    2.095041e+09   \n",
       "...                                                                             ...   \n",
       "SPECIAL SITUATIONS iShares MSCI Japan ETF                              1.906628e+09   \n",
       "                   iShares iBoxx $ High Yield Corporate Bond ETF       1.337335e+09   \n",
       "                   iShares iBoxx $ Investment Grade Corporate Bond...  2.095041e+09   \n",
       "                   iShares iBoxx High Yield Corporate Bond ETF         7.577057e+08   \n",
       "                   va-Q-tec AG                                         2.095041e+09   \n",
       "\n",
       "                                                                           mtd%  \\\n",
       "strategy           issuer                                                         \n",
       "ARBITRAGE          ABBOTT LABORATORIES                                 0.000000   \n",
       "                   ACS Actividades de Construccion y Servicios SA      0.000000   \n",
       "                   ALPI SpA/Italy                                      0.001415   \n",
       "                   ANSALDO STS SPA                                     0.001749   \n",
       "                   ARM HOLDINGS PLC                                    0.000000   \n",
       "...                                                                         ...   \n",
       "SPECIAL SITUATIONS iShares MSCI Japan ETF                              0.000072   \n",
       "                   iShares iBoxx $ High Yield Corporate Bond ETF      -0.000060   \n",
       "                   iShares iBoxx $ Investment Grade Corporate Bond...  0.000398   \n",
       "                   iShares iBoxx High Yield Corporate Bond ETF         0.000000   \n",
       "                   va-Q-tec AG                                         0.000000   \n",
       "\n",
       "                                                                       exposure%  \n",
       "strategy           issuer                                                         \n",
       "ARBITRAGE          ABBOTT LABORATORIES                                  0.000000  \n",
       "                   ACS Actividades de Construccion y Servicios SA       0.000000  \n",
       "                   ALPI SpA/Italy                                       0.042417  \n",
       "                   ANSALDO STS SPA                                      0.076496  \n",
       "                   ARM HOLDINGS PLC                                     0.000000  \n",
       "...                                                                          ...  \n",
       "SPECIAL SITUATIONS iShares MSCI Japan ETF                               0.000000  \n",
       "                   iShares iBoxx $ High Yield Corporate Bond ETF        0.000000  \n",
       "                   iShares iBoxx $ Investment Grade Corporate Bond...   0.000000  \n",
       "                   iShares iBoxx High Yield Corporate Bond ETF          0.000000  \n",
       "                   va-Q-tec AG                                          0.000000  \n",
       "\n",
       "[1129 rows x 5 columns]"
      ]
     },
     "execution_count": 20,
     "metadata": {},
     "output_type": "execute_result"
    }
   ],
   "source": [
    "df.groupby(['strategy','issuer']).sum()"
   ]
  }
 ],
 "metadata": {
  "colab": {
   "collapsed_sections": [],
   "name": "my first exercise.ipynb",
   "provenance": []
  },
  "kernelspec": {
   "display_name": "Python 3",
   "language": "python",
   "name": "python3"
  },
  "language_info": {
   "codemirror_mode": {
    "name": "ipython",
    "version": 3
   },
   "file_extension": ".py",
   "mimetype": "text/x-python",
   "name": "python",
   "nbconvert_exporter": "python",
   "pygments_lexer": "ipython3",
   "version": "3.8.5"
  },
  "toc": {
   "base_numbering": 1,
   "nav_menu": {},
   "number_sections": true,
   "sideBar": true,
   "skip_h1_title": false,
   "title_cell": "Table of Contents",
   "title_sidebar": "Contents",
   "toc_cell": false,
   "toc_position": {},
   "toc_section_display": true,
   "toc_window_display": false
  },
  "varInspector": {
   "cols": {
    "lenName": 16,
    "lenType": 16,
    "lenVar": 40
   },
   "kernels_config": {
    "python": {
     "delete_cmd_postfix": "",
     "delete_cmd_prefix": "del ",
     "library": "var_list.py",
     "varRefreshCmd": "print(var_dic_list())"
    },
    "r": {
     "delete_cmd_postfix": ") ",
     "delete_cmd_prefix": "rm(",
     "library": "var_list.r",
     "varRefreshCmd": "cat(var_dic_list()) "
    }
   },
   "types_to_exclude": [
    "module",
    "function",
    "builtin_function_or_method",
    "instance",
    "_Feature"
   ],
   "window_display": false
  }
 },
 "nbformat": 4,
 "nbformat_minor": 1
}
